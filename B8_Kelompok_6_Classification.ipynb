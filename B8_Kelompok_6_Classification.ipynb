{
  "nbformat": 4,
  "nbformat_minor": 0,
  "metadata": {
    "colab": {
      "name": "B8_Kelompok 4_Classification",
      "provenance": [],
      "collapsed_sections": [],
      "toc_visible": true
    },
    "kernelspec": {
      "name": "python3",
      "display_name": "Python 3"
    },
    "language_info": {
      "name": "python"
    }
  },
  "cells": [
    {
      "cell_type": "markdown",
      "source": [
        "#CRISP-DM - CUSTOMER CHURN CLASSIFICATION USING XGBOOST CLASSIFIER"
      ],
      "metadata": {
        "id": "jYzglIb8Nkx8"
      }
    },
    {
      "cell_type": "markdown",
      "source": [
        "#Business Understanding"
      ],
      "metadata": {
        "id": "6KMyEs9P961T"
      }
    },
    {
      "cell_type": "markdown",
      "source": [
        "## Data Dictionary\n",
        "\n",
        "Deskripsi data: Seorang manajer bisnis portofolio kartu kredit konsumen menghadapi masalah pengurangan pelanggan. Mereka ingin menganalisis data untuk mengetahui alasan di balik ini dan memanfaatkan hal yang sama untuk memprediksi pelanggan yang kemungkinan besar akan berhenti.\n",
        "\n",
        "Masalah yang terjadi:\n",
        "Pengurangan jumlah customers\n",
        "\n",
        "Solusi dan manfaat yang diberikan:\n",
        "Melakukan pemodelan menggunakan data-data yang telah dikumpulkan untuk menganalisis masalah yang terjadi, memprediksi jumlah atau ciri-ciri tertentu dari pelanggan yang berkemungkinan berhenti berlangganan, dan dapat meningkatkan pelayanan berdasarkan kesimpulan yang dihasilkan.\n",
        "\n",
        "Deskripsi dari setiap data yang akan diolah, yaitu:\n",
        "\n",
        "| column | description |\n",
        "| ------ | ----------- |\n",
        "| `CLIENTNUM` | Client or customer number. Unique identifier for the customer holding the account|\n",
        "| `Attrition_Flag` | Customer activity (Attrited or Existing Customer) |\n",
        "| `Customer_Age` | Customer's Age in Years |\n",
        "| `Gender` | Customers gender (M = Male, F = Female) |\n",
        "| `Dependent_count` | Number of customers dependents |\n",
        "| `Education_Level` | Educational Qualification of the account holder (example: high school, college graduate, etc.) |\n",
        "| `Marital_Status` | Marital status of the customers (Married, Single, Divorced, Unknown) |\n",
        "| `Income_Category` | Annual Income Category of the account holder (<$40K, $40K - 60K, $60K - $80K, $80K-$120K, >$120K |\n",
        "| `Card_Category` |  Type of Card (Blue, Silver, Gold, Platinum) |\n",
        "| `Months_on_book` | Period of relationship with bank |\n",
        "| `Total_Relationship_Count` | Total number of products held by the customer |\n",
        "| `Months_Inactive_12_mon` |Number of months inactive accounts in the last 12 months |\n",
        "| `Contacts_Count_12_mon` | Number of Contacts in the last 12 months |\n",
        "| `Credit_Limit` | Credit Limit on the Credit Card |\n",
        "| `Total_Revolving_Bal` | Total Revolving Balance on the Credit Card |\n",
        "| `Avg_Open_To_Buy` | Open to Buy Credit Line (Average of last 12 months) |\n",
        "| `Total_Amt_Chng_Q4_Q1` | Change in Transaction Amount (Q4 over Q1) |\n",
        "| `Total_Trans_Amt` | Total Transaction Amount (Last 12 months) |\n",
        "| `Total_Trans_Ct` | Total Transaction Count (Last 12 months) |\n",
        "| `Total_Ct_Chng_Q4_Q1` | Change in Transaction Count (Q4 over Q1) |\n",
        "| `Avg_Utilization_Ratio` | Average Card Utilization Ratio |"
      ],
      "metadata": {
        "id": "mFcXCGWW99Sg"
      }
    },
    {
      "cell_type": "markdown",
      "source": [
        "##Akses Github"
      ],
      "metadata": {
        "id": "stWsLf0W4yke"
      }
    },
    {
      "cell_type": "code",
      "source": [
        "!git clone https://github.com/srndhn23/RGFile"
      ],
      "metadata": {
        "colab": {
          "base_uri": "https://localhost:8080/"
        },
        "id": "9MC0VXmMa3HF",
        "outputId": "9dd7b4d9-355c-4fc8-a20b-d144caedd145"
      },
      "execution_count": 40,
      "outputs": [
        {
          "output_type": "stream",
          "name": "stdout",
          "text": [
            "fatal: destination path 'RGFile' already exists and is not an empty directory.\n"
          ]
        }
      ]
    },
    {
      "cell_type": "markdown",
      "source": [
        "##Libraries"
      ],
      "metadata": {
        "id": "d8G0zm5V42S5"
      }
    },
    {
      "cell_type": "code",
      "source": [
        "import pandas as pd\n",
        "import numpy as np\n",
        "import matplotlib.pyplot as plt\n",
        "import seaborn as sns\n",
        "from pprint import pprint"
      ],
      "metadata": {
        "id": "4KaHYWBw0-x4"
      },
      "execution_count": 41,
      "outputs": []
    },
    {
      "cell_type": "markdown",
      "source": [
        "#EDA"
      ],
      "metadata": {
        "id": "FgQPkY_o5KnK"
      }
    },
    {
      "cell_type": "markdown",
      "source": [
        "##Akses File"
      ],
      "metadata": {
        "id": "CKaC9qQu45Px"
      }
    },
    {
      "cell_type": "code",
      "source": [
        "customer_churn = pd.read_csv('/content/RGFile/BankChurners.csv')\n",
        "customer_churn.head()"
      ],
      "metadata": {
        "colab": {
          "base_uri": "https://localhost:8080/",
          "height": 386
        },
        "id": "PM4dFsm75Ows",
        "outputId": "4dfa5888-7f94-44e1-9585-ef26693e1735"
      },
      "execution_count": 42,
      "outputs": [
        {
          "output_type": "execute_result",
          "data": {
            "text/plain": [
              "   CLIENTNUM     Attrition_Flag  Customer_Age Gender  Dependent_count  \\\n",
              "0  768805383  Existing Customer            45      M                3   \n",
              "1  818770008  Existing Customer            49      F                5   \n",
              "2  713982108  Existing Customer            51      M                3   \n",
              "3  769911858  Existing Customer            40      F                4   \n",
              "4  709106358  Existing Customer            40      M                3   \n",
              "\n",
              "  Education_Level Marital_Status Income_Category Card_Category  \\\n",
              "0     High School        Married     $60K - $80K          Blue   \n",
              "1        Graduate         Single  Less than $40K          Blue   \n",
              "2        Graduate        Married    $80K - $120K          Blue   \n",
              "3     High School        Unknown  Less than $40K          Blue   \n",
              "4      Uneducated        Married     $60K - $80K          Blue   \n",
              "\n",
              "   Months_on_book  ...  Credit_Limit  Total_Revolving_Bal  Avg_Open_To_Buy  \\\n",
              "0              39  ...       12691.0                  777          11914.0   \n",
              "1              44  ...        8256.0                  864           7392.0   \n",
              "2              36  ...        3418.0                    0           3418.0   \n",
              "3              34  ...        3313.0                 2517            796.0   \n",
              "4              21  ...        4716.0                    0           4716.0   \n",
              "\n",
              "   Total_Amt_Chng_Q4_Q1  Total_Trans_Amt  Total_Trans_Ct  Total_Ct_Chng_Q4_Q1  \\\n",
              "0                 1.335             1144              42                1.625   \n",
              "1                 1.541             1291              33                3.714   \n",
              "2                 2.594             1887              20                2.333   \n",
              "3                 1.405             1171              20                2.333   \n",
              "4                 2.175              816              28                2.500   \n",
              "\n",
              "   Avg_Utilization_Ratio  \\\n",
              "0                  0.061   \n",
              "1                  0.105   \n",
              "2                  0.000   \n",
              "3                  0.760   \n",
              "4                  0.000   \n",
              "\n",
              "   Naive_Bayes_Classifier_Attrition_Flag_Card_Category_Contacts_Count_12_mon_Dependent_count_Education_Level_Months_Inactive_12_mon_1  \\\n",
              "0                                           0.000093                                                                                    \n",
              "1                                           0.000057                                                                                    \n",
              "2                                           0.000021                                                                                    \n",
              "3                                           0.000134                                                                                    \n",
              "4                                           0.000022                                                                                    \n",
              "\n",
              "   Naive_Bayes_Classifier_Attrition_Flag_Card_Category_Contacts_Count_12_mon_Dependent_count_Education_Level_Months_Inactive_12_mon_2  \n",
              "0                                            0.99991                                                                                   \n",
              "1                                            0.99994                                                                                   \n",
              "2                                            0.99998                                                                                   \n",
              "3                                            0.99987                                                                                   \n",
              "4                                            0.99998                                                                                   \n",
              "\n",
              "[5 rows x 23 columns]"
            ],
            "text/html": [
              "\n",
              "  <div id=\"df-13d01983-616f-4b0c-be51-98e437a68e70\">\n",
              "    <div class=\"colab-df-container\">\n",
              "      <div>\n",
              "<style scoped>\n",
              "    .dataframe tbody tr th:only-of-type {\n",
              "        vertical-align: middle;\n",
              "    }\n",
              "\n",
              "    .dataframe tbody tr th {\n",
              "        vertical-align: top;\n",
              "    }\n",
              "\n",
              "    .dataframe thead th {\n",
              "        text-align: right;\n",
              "    }\n",
              "</style>\n",
              "<table border=\"1\" class=\"dataframe\">\n",
              "  <thead>\n",
              "    <tr style=\"text-align: right;\">\n",
              "      <th></th>\n",
              "      <th>CLIENTNUM</th>\n",
              "      <th>Attrition_Flag</th>\n",
              "      <th>Customer_Age</th>\n",
              "      <th>Gender</th>\n",
              "      <th>Dependent_count</th>\n",
              "      <th>Education_Level</th>\n",
              "      <th>Marital_Status</th>\n",
              "      <th>Income_Category</th>\n",
              "      <th>Card_Category</th>\n",
              "      <th>Months_on_book</th>\n",
              "      <th>...</th>\n",
              "      <th>Credit_Limit</th>\n",
              "      <th>Total_Revolving_Bal</th>\n",
              "      <th>Avg_Open_To_Buy</th>\n",
              "      <th>Total_Amt_Chng_Q4_Q1</th>\n",
              "      <th>Total_Trans_Amt</th>\n",
              "      <th>Total_Trans_Ct</th>\n",
              "      <th>Total_Ct_Chng_Q4_Q1</th>\n",
              "      <th>Avg_Utilization_Ratio</th>\n",
              "      <th>Naive_Bayes_Classifier_Attrition_Flag_Card_Category_Contacts_Count_12_mon_Dependent_count_Education_Level_Months_Inactive_12_mon_1</th>\n",
              "      <th>Naive_Bayes_Classifier_Attrition_Flag_Card_Category_Contacts_Count_12_mon_Dependent_count_Education_Level_Months_Inactive_12_mon_2</th>\n",
              "    </tr>\n",
              "  </thead>\n",
              "  <tbody>\n",
              "    <tr>\n",
              "      <th>0</th>\n",
              "      <td>768805383</td>\n",
              "      <td>Existing Customer</td>\n",
              "      <td>45</td>\n",
              "      <td>M</td>\n",
              "      <td>3</td>\n",
              "      <td>High School</td>\n",
              "      <td>Married</td>\n",
              "      <td>$60K - $80K</td>\n",
              "      <td>Blue</td>\n",
              "      <td>39</td>\n",
              "      <td>...</td>\n",
              "      <td>12691.0</td>\n",
              "      <td>777</td>\n",
              "      <td>11914.0</td>\n",
              "      <td>1.335</td>\n",
              "      <td>1144</td>\n",
              "      <td>42</td>\n",
              "      <td>1.625</td>\n",
              "      <td>0.061</td>\n",
              "      <td>0.000093</td>\n",
              "      <td>0.99991</td>\n",
              "    </tr>\n",
              "    <tr>\n",
              "      <th>1</th>\n",
              "      <td>818770008</td>\n",
              "      <td>Existing Customer</td>\n",
              "      <td>49</td>\n",
              "      <td>F</td>\n",
              "      <td>5</td>\n",
              "      <td>Graduate</td>\n",
              "      <td>Single</td>\n",
              "      <td>Less than $40K</td>\n",
              "      <td>Blue</td>\n",
              "      <td>44</td>\n",
              "      <td>...</td>\n",
              "      <td>8256.0</td>\n",
              "      <td>864</td>\n",
              "      <td>7392.0</td>\n",
              "      <td>1.541</td>\n",
              "      <td>1291</td>\n",
              "      <td>33</td>\n",
              "      <td>3.714</td>\n",
              "      <td>0.105</td>\n",
              "      <td>0.000057</td>\n",
              "      <td>0.99994</td>\n",
              "    </tr>\n",
              "    <tr>\n",
              "      <th>2</th>\n",
              "      <td>713982108</td>\n",
              "      <td>Existing Customer</td>\n",
              "      <td>51</td>\n",
              "      <td>M</td>\n",
              "      <td>3</td>\n",
              "      <td>Graduate</td>\n",
              "      <td>Married</td>\n",
              "      <td>$80K - $120K</td>\n",
              "      <td>Blue</td>\n",
              "      <td>36</td>\n",
              "      <td>...</td>\n",
              "      <td>3418.0</td>\n",
              "      <td>0</td>\n",
              "      <td>3418.0</td>\n",
              "      <td>2.594</td>\n",
              "      <td>1887</td>\n",
              "      <td>20</td>\n",
              "      <td>2.333</td>\n",
              "      <td>0.000</td>\n",
              "      <td>0.000021</td>\n",
              "      <td>0.99998</td>\n",
              "    </tr>\n",
              "    <tr>\n",
              "      <th>3</th>\n",
              "      <td>769911858</td>\n",
              "      <td>Existing Customer</td>\n",
              "      <td>40</td>\n",
              "      <td>F</td>\n",
              "      <td>4</td>\n",
              "      <td>High School</td>\n",
              "      <td>Unknown</td>\n",
              "      <td>Less than $40K</td>\n",
              "      <td>Blue</td>\n",
              "      <td>34</td>\n",
              "      <td>...</td>\n",
              "      <td>3313.0</td>\n",
              "      <td>2517</td>\n",
              "      <td>796.0</td>\n",
              "      <td>1.405</td>\n",
              "      <td>1171</td>\n",
              "      <td>20</td>\n",
              "      <td>2.333</td>\n",
              "      <td>0.760</td>\n",
              "      <td>0.000134</td>\n",
              "      <td>0.99987</td>\n",
              "    </tr>\n",
              "    <tr>\n",
              "      <th>4</th>\n",
              "      <td>709106358</td>\n",
              "      <td>Existing Customer</td>\n",
              "      <td>40</td>\n",
              "      <td>M</td>\n",
              "      <td>3</td>\n",
              "      <td>Uneducated</td>\n",
              "      <td>Married</td>\n",
              "      <td>$60K - $80K</td>\n",
              "      <td>Blue</td>\n",
              "      <td>21</td>\n",
              "      <td>...</td>\n",
              "      <td>4716.0</td>\n",
              "      <td>0</td>\n",
              "      <td>4716.0</td>\n",
              "      <td>2.175</td>\n",
              "      <td>816</td>\n",
              "      <td>28</td>\n",
              "      <td>2.500</td>\n",
              "      <td>0.000</td>\n",
              "      <td>0.000022</td>\n",
              "      <td>0.99998</td>\n",
              "    </tr>\n",
              "  </tbody>\n",
              "</table>\n",
              "<p>5 rows × 23 columns</p>\n",
              "</div>\n",
              "      <button class=\"colab-df-convert\" onclick=\"convertToInteractive('df-13d01983-616f-4b0c-be51-98e437a68e70')\"\n",
              "              title=\"Convert this dataframe to an interactive table.\"\n",
              "              style=\"display:none;\">\n",
              "        \n",
              "  <svg xmlns=\"http://www.w3.org/2000/svg\" height=\"24px\"viewBox=\"0 0 24 24\"\n",
              "       width=\"24px\">\n",
              "    <path d=\"M0 0h24v24H0V0z\" fill=\"none\"/>\n",
              "    <path d=\"M18.56 5.44l.94 2.06.94-2.06 2.06-.94-2.06-.94-.94-2.06-.94 2.06-2.06.94zm-11 1L8.5 8.5l.94-2.06 2.06-.94-2.06-.94L8.5 2.5l-.94 2.06-2.06.94zm10 10l.94 2.06.94-2.06 2.06-.94-2.06-.94-.94-2.06-.94 2.06-2.06.94z\"/><path d=\"M17.41 7.96l-1.37-1.37c-.4-.4-.92-.59-1.43-.59-.52 0-1.04.2-1.43.59L10.3 9.45l-7.72 7.72c-.78.78-.78 2.05 0 2.83L4 21.41c.39.39.9.59 1.41.59.51 0 1.02-.2 1.41-.59l7.78-7.78 2.81-2.81c.8-.78.8-2.07 0-2.86zM5.41 20L4 18.59l7.72-7.72 1.47 1.35L5.41 20z\"/>\n",
              "  </svg>\n",
              "      </button>\n",
              "      \n",
              "  <style>\n",
              "    .colab-df-container {\n",
              "      display:flex;\n",
              "      flex-wrap:wrap;\n",
              "      gap: 12px;\n",
              "    }\n",
              "\n",
              "    .colab-df-convert {\n",
              "      background-color: #E8F0FE;\n",
              "      border: none;\n",
              "      border-radius: 50%;\n",
              "      cursor: pointer;\n",
              "      display: none;\n",
              "      fill: #1967D2;\n",
              "      height: 32px;\n",
              "      padding: 0 0 0 0;\n",
              "      width: 32px;\n",
              "    }\n",
              "\n",
              "    .colab-df-convert:hover {\n",
              "      background-color: #E2EBFA;\n",
              "      box-shadow: 0px 1px 2px rgba(60, 64, 67, 0.3), 0px 1px 3px 1px rgba(60, 64, 67, 0.15);\n",
              "      fill: #174EA6;\n",
              "    }\n",
              "\n",
              "    [theme=dark] .colab-df-convert {\n",
              "      background-color: #3B4455;\n",
              "      fill: #D2E3FC;\n",
              "    }\n",
              "\n",
              "    [theme=dark] .colab-df-convert:hover {\n",
              "      background-color: #434B5C;\n",
              "      box-shadow: 0px 1px 3px 1px rgba(0, 0, 0, 0.15);\n",
              "      filter: drop-shadow(0px 1px 2px rgba(0, 0, 0, 0.3));\n",
              "      fill: #FFFFFF;\n",
              "    }\n",
              "  </style>\n",
              "\n",
              "      <script>\n",
              "        const buttonEl =\n",
              "          document.querySelector('#df-13d01983-616f-4b0c-be51-98e437a68e70 button.colab-df-convert');\n",
              "        buttonEl.style.display =\n",
              "          google.colab.kernel.accessAllowed ? 'block' : 'none';\n",
              "\n",
              "        async function convertToInteractive(key) {\n",
              "          const element = document.querySelector('#df-13d01983-616f-4b0c-be51-98e437a68e70');\n",
              "          const dataTable =\n",
              "            await google.colab.kernel.invokeFunction('convertToInteractive',\n",
              "                                                     [key], {});\n",
              "          if (!dataTable) return;\n",
              "\n",
              "          const docLinkHtml = 'Like what you see? Visit the ' +\n",
              "            '<a target=\"_blank\" href=https://colab.research.google.com/notebooks/data_table.ipynb>data table notebook</a>'\n",
              "            + ' to learn more about interactive tables.';\n",
              "          element.innerHTML = '';\n",
              "          dataTable['output_type'] = 'display_data';\n",
              "          await google.colab.output.renderOutput(dataTable, element);\n",
              "          const docLink = document.createElement('div');\n",
              "          docLink.innerHTML = docLinkHtml;\n",
              "          element.appendChild(docLink);\n",
              "        }\n",
              "      </script>\n",
              "    </div>\n",
              "  </div>\n",
              "  "
            ]
          },
          "metadata": {},
          "execution_count": 42
        }
      ]
    },
    {
      "cell_type": "markdown",
      "source": [
        "##Drop Columns"
      ],
      "metadata": {
        "id": "sXo5ADhm48pf"
      }
    },
    {
      "cell_type": "markdown",
      "source": [
        "Menghapus 3 kolom di bawah ini, karena tidak diperlukan dan akan mengganggu pengolahan data."
      ],
      "metadata": {
        "id": "MHklI1RrKmzR"
      }
    },
    {
      "cell_type": "code",
      "source": [
        "customer_churn = customer_churn.drop(['Naive_Bayes_Classifier_Attrition_Flag_Card_Category_Contacts_Count_12_mon_Dependent_count_Education_Level_Months_Inactive_12_mon_1'], axis = 1)\n",
        "customer_churn = customer_churn.drop(['Naive_Bayes_Classifier_Attrition_Flag_Card_Category_Contacts_Count_12_mon_Dependent_count_Education_Level_Months_Inactive_12_mon_2'], axis = 1)\n",
        "customer_churn = customer_churn.drop(['CLIENTNUM'], axis = 1)"
      ],
      "metadata": {
        "id": "wvDlXXJ65UlI"
      },
      "execution_count": 43,
      "outputs": []
    },
    {
      "cell_type": "code",
      "source": [
        "customer_churn.head()"
      ],
      "metadata": {
        "colab": {
          "base_uri": "https://localhost:8080/",
          "height": 357
        },
        "id": "ViPzcDCw7ysO",
        "outputId": "328f587e-fa9f-4ab9-d9c4-96942fb5a5fa"
      },
      "execution_count": 44,
      "outputs": [
        {
          "output_type": "execute_result",
          "data": {
            "text/plain": [
              "      Attrition_Flag  Customer_Age Gender  Dependent_count Education_Level  \\\n",
              "0  Existing Customer            45      M                3     High School   \n",
              "1  Existing Customer            49      F                5        Graduate   \n",
              "2  Existing Customer            51      M                3        Graduate   \n",
              "3  Existing Customer            40      F                4     High School   \n",
              "4  Existing Customer            40      M                3      Uneducated   \n",
              "\n",
              "  Marital_Status Income_Category Card_Category  Months_on_book  \\\n",
              "0        Married     $60K - $80K          Blue              39   \n",
              "1         Single  Less than $40K          Blue              44   \n",
              "2        Married    $80K - $120K          Blue              36   \n",
              "3        Unknown  Less than $40K          Blue              34   \n",
              "4        Married     $60K - $80K          Blue              21   \n",
              "\n",
              "   Total_Relationship_Count  Months_Inactive_12_mon  Contacts_Count_12_mon  \\\n",
              "0                         5                       1                      3   \n",
              "1                         6                       1                      2   \n",
              "2                         4                       1                      0   \n",
              "3                         3                       4                      1   \n",
              "4                         5                       1                      0   \n",
              "\n",
              "   Credit_Limit  Total_Revolving_Bal  Avg_Open_To_Buy  Total_Amt_Chng_Q4_Q1  \\\n",
              "0       12691.0                  777          11914.0                 1.335   \n",
              "1        8256.0                  864           7392.0                 1.541   \n",
              "2        3418.0                    0           3418.0                 2.594   \n",
              "3        3313.0                 2517            796.0                 1.405   \n",
              "4        4716.0                    0           4716.0                 2.175   \n",
              "\n",
              "   Total_Trans_Amt  Total_Trans_Ct  Total_Ct_Chng_Q4_Q1  Avg_Utilization_Ratio  \n",
              "0             1144              42                1.625                  0.061  \n",
              "1             1291              33                3.714                  0.105  \n",
              "2             1887              20                2.333                  0.000  \n",
              "3             1171              20                2.333                  0.760  \n",
              "4              816              28                2.500                  0.000  "
            ],
            "text/html": [
              "\n",
              "  <div id=\"df-60beb3ff-e3fe-4147-baa2-3a23466b424e\">\n",
              "    <div class=\"colab-df-container\">\n",
              "      <div>\n",
              "<style scoped>\n",
              "    .dataframe tbody tr th:only-of-type {\n",
              "        vertical-align: middle;\n",
              "    }\n",
              "\n",
              "    .dataframe tbody tr th {\n",
              "        vertical-align: top;\n",
              "    }\n",
              "\n",
              "    .dataframe thead th {\n",
              "        text-align: right;\n",
              "    }\n",
              "</style>\n",
              "<table border=\"1\" class=\"dataframe\">\n",
              "  <thead>\n",
              "    <tr style=\"text-align: right;\">\n",
              "      <th></th>\n",
              "      <th>Attrition_Flag</th>\n",
              "      <th>Customer_Age</th>\n",
              "      <th>Gender</th>\n",
              "      <th>Dependent_count</th>\n",
              "      <th>Education_Level</th>\n",
              "      <th>Marital_Status</th>\n",
              "      <th>Income_Category</th>\n",
              "      <th>Card_Category</th>\n",
              "      <th>Months_on_book</th>\n",
              "      <th>Total_Relationship_Count</th>\n",
              "      <th>Months_Inactive_12_mon</th>\n",
              "      <th>Contacts_Count_12_mon</th>\n",
              "      <th>Credit_Limit</th>\n",
              "      <th>Total_Revolving_Bal</th>\n",
              "      <th>Avg_Open_To_Buy</th>\n",
              "      <th>Total_Amt_Chng_Q4_Q1</th>\n",
              "      <th>Total_Trans_Amt</th>\n",
              "      <th>Total_Trans_Ct</th>\n",
              "      <th>Total_Ct_Chng_Q4_Q1</th>\n",
              "      <th>Avg_Utilization_Ratio</th>\n",
              "    </tr>\n",
              "  </thead>\n",
              "  <tbody>\n",
              "    <tr>\n",
              "      <th>0</th>\n",
              "      <td>Existing Customer</td>\n",
              "      <td>45</td>\n",
              "      <td>M</td>\n",
              "      <td>3</td>\n",
              "      <td>High School</td>\n",
              "      <td>Married</td>\n",
              "      <td>$60K - $80K</td>\n",
              "      <td>Blue</td>\n",
              "      <td>39</td>\n",
              "      <td>5</td>\n",
              "      <td>1</td>\n",
              "      <td>3</td>\n",
              "      <td>12691.0</td>\n",
              "      <td>777</td>\n",
              "      <td>11914.0</td>\n",
              "      <td>1.335</td>\n",
              "      <td>1144</td>\n",
              "      <td>42</td>\n",
              "      <td>1.625</td>\n",
              "      <td>0.061</td>\n",
              "    </tr>\n",
              "    <tr>\n",
              "      <th>1</th>\n",
              "      <td>Existing Customer</td>\n",
              "      <td>49</td>\n",
              "      <td>F</td>\n",
              "      <td>5</td>\n",
              "      <td>Graduate</td>\n",
              "      <td>Single</td>\n",
              "      <td>Less than $40K</td>\n",
              "      <td>Blue</td>\n",
              "      <td>44</td>\n",
              "      <td>6</td>\n",
              "      <td>1</td>\n",
              "      <td>2</td>\n",
              "      <td>8256.0</td>\n",
              "      <td>864</td>\n",
              "      <td>7392.0</td>\n",
              "      <td>1.541</td>\n",
              "      <td>1291</td>\n",
              "      <td>33</td>\n",
              "      <td>3.714</td>\n",
              "      <td>0.105</td>\n",
              "    </tr>\n",
              "    <tr>\n",
              "      <th>2</th>\n",
              "      <td>Existing Customer</td>\n",
              "      <td>51</td>\n",
              "      <td>M</td>\n",
              "      <td>3</td>\n",
              "      <td>Graduate</td>\n",
              "      <td>Married</td>\n",
              "      <td>$80K - $120K</td>\n",
              "      <td>Blue</td>\n",
              "      <td>36</td>\n",
              "      <td>4</td>\n",
              "      <td>1</td>\n",
              "      <td>0</td>\n",
              "      <td>3418.0</td>\n",
              "      <td>0</td>\n",
              "      <td>3418.0</td>\n",
              "      <td>2.594</td>\n",
              "      <td>1887</td>\n",
              "      <td>20</td>\n",
              "      <td>2.333</td>\n",
              "      <td>0.000</td>\n",
              "    </tr>\n",
              "    <tr>\n",
              "      <th>3</th>\n",
              "      <td>Existing Customer</td>\n",
              "      <td>40</td>\n",
              "      <td>F</td>\n",
              "      <td>4</td>\n",
              "      <td>High School</td>\n",
              "      <td>Unknown</td>\n",
              "      <td>Less than $40K</td>\n",
              "      <td>Blue</td>\n",
              "      <td>34</td>\n",
              "      <td>3</td>\n",
              "      <td>4</td>\n",
              "      <td>1</td>\n",
              "      <td>3313.0</td>\n",
              "      <td>2517</td>\n",
              "      <td>796.0</td>\n",
              "      <td>1.405</td>\n",
              "      <td>1171</td>\n",
              "      <td>20</td>\n",
              "      <td>2.333</td>\n",
              "      <td>0.760</td>\n",
              "    </tr>\n",
              "    <tr>\n",
              "      <th>4</th>\n",
              "      <td>Existing Customer</td>\n",
              "      <td>40</td>\n",
              "      <td>M</td>\n",
              "      <td>3</td>\n",
              "      <td>Uneducated</td>\n",
              "      <td>Married</td>\n",
              "      <td>$60K - $80K</td>\n",
              "      <td>Blue</td>\n",
              "      <td>21</td>\n",
              "      <td>5</td>\n",
              "      <td>1</td>\n",
              "      <td>0</td>\n",
              "      <td>4716.0</td>\n",
              "      <td>0</td>\n",
              "      <td>4716.0</td>\n",
              "      <td>2.175</td>\n",
              "      <td>816</td>\n",
              "      <td>28</td>\n",
              "      <td>2.500</td>\n",
              "      <td>0.000</td>\n",
              "    </tr>\n",
              "  </tbody>\n",
              "</table>\n",
              "</div>\n",
              "      <button class=\"colab-df-convert\" onclick=\"convertToInteractive('df-60beb3ff-e3fe-4147-baa2-3a23466b424e')\"\n",
              "              title=\"Convert this dataframe to an interactive table.\"\n",
              "              style=\"display:none;\">\n",
              "        \n",
              "  <svg xmlns=\"http://www.w3.org/2000/svg\" height=\"24px\"viewBox=\"0 0 24 24\"\n",
              "       width=\"24px\">\n",
              "    <path d=\"M0 0h24v24H0V0z\" fill=\"none\"/>\n",
              "    <path d=\"M18.56 5.44l.94 2.06.94-2.06 2.06-.94-2.06-.94-.94-2.06-.94 2.06-2.06.94zm-11 1L8.5 8.5l.94-2.06 2.06-.94-2.06-.94L8.5 2.5l-.94 2.06-2.06.94zm10 10l.94 2.06.94-2.06 2.06-.94-2.06-.94-.94-2.06-.94 2.06-2.06.94z\"/><path d=\"M17.41 7.96l-1.37-1.37c-.4-.4-.92-.59-1.43-.59-.52 0-1.04.2-1.43.59L10.3 9.45l-7.72 7.72c-.78.78-.78 2.05 0 2.83L4 21.41c.39.39.9.59 1.41.59.51 0 1.02-.2 1.41-.59l7.78-7.78 2.81-2.81c.8-.78.8-2.07 0-2.86zM5.41 20L4 18.59l7.72-7.72 1.47 1.35L5.41 20z\"/>\n",
              "  </svg>\n",
              "      </button>\n",
              "      \n",
              "  <style>\n",
              "    .colab-df-container {\n",
              "      display:flex;\n",
              "      flex-wrap:wrap;\n",
              "      gap: 12px;\n",
              "    }\n",
              "\n",
              "    .colab-df-convert {\n",
              "      background-color: #E8F0FE;\n",
              "      border: none;\n",
              "      border-radius: 50%;\n",
              "      cursor: pointer;\n",
              "      display: none;\n",
              "      fill: #1967D2;\n",
              "      height: 32px;\n",
              "      padding: 0 0 0 0;\n",
              "      width: 32px;\n",
              "    }\n",
              "\n",
              "    .colab-df-convert:hover {\n",
              "      background-color: #E2EBFA;\n",
              "      box-shadow: 0px 1px 2px rgba(60, 64, 67, 0.3), 0px 1px 3px 1px rgba(60, 64, 67, 0.15);\n",
              "      fill: #174EA6;\n",
              "    }\n",
              "\n",
              "    [theme=dark] .colab-df-convert {\n",
              "      background-color: #3B4455;\n",
              "      fill: #D2E3FC;\n",
              "    }\n",
              "\n",
              "    [theme=dark] .colab-df-convert:hover {\n",
              "      background-color: #434B5C;\n",
              "      box-shadow: 0px 1px 3px 1px rgba(0, 0, 0, 0.15);\n",
              "      filter: drop-shadow(0px 1px 2px rgba(0, 0, 0, 0.3));\n",
              "      fill: #FFFFFF;\n",
              "    }\n",
              "  </style>\n",
              "\n",
              "      <script>\n",
              "        const buttonEl =\n",
              "          document.querySelector('#df-60beb3ff-e3fe-4147-baa2-3a23466b424e button.colab-df-convert');\n",
              "        buttonEl.style.display =\n",
              "          google.colab.kernel.accessAllowed ? 'block' : 'none';\n",
              "\n",
              "        async function convertToInteractive(key) {\n",
              "          const element = document.querySelector('#df-60beb3ff-e3fe-4147-baa2-3a23466b424e');\n",
              "          const dataTable =\n",
              "            await google.colab.kernel.invokeFunction('convertToInteractive',\n",
              "                                                     [key], {});\n",
              "          if (!dataTable) return;\n",
              "\n",
              "          const docLinkHtml = 'Like what you see? Visit the ' +\n",
              "            '<a target=\"_blank\" href=https://colab.research.google.com/notebooks/data_table.ipynb>data table notebook</a>'\n",
              "            + ' to learn more about interactive tables.';\n",
              "          element.innerHTML = '';\n",
              "          dataTable['output_type'] = 'display_data';\n",
              "          await google.colab.output.renderOutput(dataTable, element);\n",
              "          const docLink = document.createElement('div');\n",
              "          docLink.innerHTML = docLinkHtml;\n",
              "          element.appendChild(docLink);\n",
              "        }\n",
              "      </script>\n",
              "    </div>\n",
              "  </div>\n",
              "  "
            ]
          },
          "metadata": {},
          "execution_count": 44
        }
      ]
    },
    {
      "cell_type": "markdown",
      "source": [
        "##Shape"
      ],
      "metadata": {
        "id": "Cr3SETZT5OVx"
      }
    },
    {
      "cell_type": "code",
      "source": [
        "print(f'Number of rows: {customer_churn.shape[0]}\\nNumber of columns: {customer_churn.shape[1]}')"
      ],
      "metadata": {
        "colab": {
          "base_uri": "https://localhost:8080/"
        },
        "id": "z713kPPb9Shg",
        "outputId": "529274a5-31fa-467e-8694-e9e203716003"
      },
      "execution_count": 45,
      "outputs": [
        {
          "output_type": "stream",
          "name": "stdout",
          "text": [
            "Number of rows: 10127\n",
            "Number of columns: 20\n"
          ]
        }
      ]
    },
    {
      "cell_type": "markdown",
      "source": [
        "##Info"
      ],
      "metadata": {
        "id": "nup-BQOY5Q9q"
      }
    },
    {
      "cell_type": "code",
      "source": [
        "customer_churn.info()"
      ],
      "metadata": {
        "colab": {
          "base_uri": "https://localhost:8080/"
        },
        "id": "MTKAudzc9EOT",
        "outputId": "db9faa37-156c-43ff-b0d3-b9081f82d804"
      },
      "execution_count": 46,
      "outputs": [
        {
          "output_type": "stream",
          "name": "stdout",
          "text": [
            "<class 'pandas.core.frame.DataFrame'>\n",
            "RangeIndex: 10127 entries, 0 to 10126\n",
            "Data columns (total 20 columns):\n",
            " #   Column                    Non-Null Count  Dtype  \n",
            "---  ------                    --------------  -----  \n",
            " 0   Attrition_Flag            10127 non-null  object \n",
            " 1   Customer_Age              10127 non-null  int64  \n",
            " 2   Gender                    10127 non-null  object \n",
            " 3   Dependent_count           10127 non-null  int64  \n",
            " 4   Education_Level           10127 non-null  object \n",
            " 5   Marital_Status            10127 non-null  object \n",
            " 6   Income_Category           10127 non-null  object \n",
            " 7   Card_Category             10127 non-null  object \n",
            " 8   Months_on_book            10127 non-null  int64  \n",
            " 9   Total_Relationship_Count  10127 non-null  int64  \n",
            " 10  Months_Inactive_12_mon    10127 non-null  int64  \n",
            " 11  Contacts_Count_12_mon     10127 non-null  int64  \n",
            " 12  Credit_Limit              10127 non-null  float64\n",
            " 13  Total_Revolving_Bal       10127 non-null  int64  \n",
            " 14  Avg_Open_To_Buy           10127 non-null  float64\n",
            " 15  Total_Amt_Chng_Q4_Q1      10127 non-null  float64\n",
            " 16  Total_Trans_Amt           10127 non-null  int64  \n",
            " 17  Total_Trans_Ct            10127 non-null  int64  \n",
            " 18  Total_Ct_Chng_Q4_Q1       10127 non-null  float64\n",
            " 19  Avg_Utilization_Ratio     10127 non-null  float64\n",
            "dtypes: float64(5), int64(9), object(6)\n",
            "memory usage: 1.5+ MB\n"
          ]
        }
      ]
    },
    {
      "cell_type": "markdown",
      "source": [
        "Bersih, tidak ada missing value"
      ],
      "metadata": {
        "id": "qPpuh9JvoGUx"
      }
    },
    {
      "cell_type": "markdown",
      "source": [
        "##Numerical dan Categorical"
      ],
      "metadata": {
        "id": "4N4anK8T5SzU"
      }
    },
    {
      "cell_type": "code",
      "source": [
        "numerical_features = customer_churn.select_dtypes(include=\"number\").columns.tolist()\n",
        "categorical_features = customer_churn.select_dtypes(include=\"object\").columns.tolist()\n",
        "\n",
        "print(\"Numerical features:\")\n",
        "pprint(numerical_features, compact=True)\n",
        "print(\"------------------------------------------------------------------------\")\n",
        "print(\"Categorical features:\")\n",
        "pprint(categorical_features, compact=True)"
      ],
      "metadata": {
        "colab": {
          "base_uri": "https://localhost:8080/"
        },
        "id": "Pwt4SLmM71-z",
        "outputId": "ed4172e9-755e-4dd1-f41b-7b97ac478819"
      },
      "execution_count": 47,
      "outputs": [
        {
          "output_type": "stream",
          "name": "stdout",
          "text": [
            "Numerical features:\n",
            "['Customer_Age', 'Dependent_count', 'Months_on_book',\n",
            " 'Total_Relationship_Count', 'Months_Inactive_12_mon', 'Contacts_Count_12_mon',\n",
            " 'Credit_Limit', 'Total_Revolving_Bal', 'Avg_Open_To_Buy',\n",
            " 'Total_Amt_Chng_Q4_Q1', 'Total_Trans_Amt', 'Total_Trans_Ct',\n",
            " 'Total_Ct_Chng_Q4_Q1', 'Avg_Utilization_Ratio']\n",
            "------------------------------------------------------------------------\n",
            "Categorical features:\n",
            "['Attrition_Flag', 'Gender', 'Education_Level', 'Marital_Status',\n",
            " 'Income_Category', 'Card_Category']\n"
          ]
        }
      ]
    },
    {
      "cell_type": "markdown",
      "source": [
        "##Numerical Describe"
      ],
      "metadata": {
        "id": "09uJHh3n5WyG"
      }
    },
    {
      "cell_type": "code",
      "source": [
        "customer_churn[numerical_features].describe().T"
      ],
      "metadata": {
        "colab": {
          "base_uri": "https://localhost:8080/",
          "height": 488
        },
        "id": "gXwtuF0r84r4",
        "outputId": "21454ee8-1645-40af-a76f-e6c8271f351e"
      },
      "execution_count": 48,
      "outputs": [
        {
          "output_type": "execute_result",
          "data": {
            "text/plain": [
              "                            count         mean          std     min       25%  \\\n",
              "Customer_Age              10127.0    46.325960     8.016814    26.0    41.000   \n",
              "Dependent_count           10127.0     2.346203     1.298908     0.0     1.000   \n",
              "Months_on_book            10127.0    35.928409     7.986416    13.0    31.000   \n",
              "Total_Relationship_Count  10127.0     3.812580     1.554408     1.0     3.000   \n",
              "Months_Inactive_12_mon    10127.0     2.341167     1.010622     0.0     2.000   \n",
              "Contacts_Count_12_mon     10127.0     2.455317     1.106225     0.0     2.000   \n",
              "Credit_Limit              10127.0  8631.953698  9088.776650  1438.3  2555.000   \n",
              "Total_Revolving_Bal       10127.0  1162.814061   814.987335     0.0   359.000   \n",
              "Avg_Open_To_Buy           10127.0  7469.139637  9090.685324     3.0  1324.500   \n",
              "Total_Amt_Chng_Q4_Q1      10127.0     0.759941     0.219207     0.0     0.631   \n",
              "Total_Trans_Amt           10127.0  4404.086304  3397.129254   510.0  2155.500   \n",
              "Total_Trans_Ct            10127.0    64.858695    23.472570    10.0    45.000   \n",
              "Total_Ct_Chng_Q4_Q1       10127.0     0.712222     0.238086     0.0     0.582   \n",
              "Avg_Utilization_Ratio     10127.0     0.274894     0.275691     0.0     0.023   \n",
              "\n",
              "                               50%        75%        max  \n",
              "Customer_Age                46.000     52.000     73.000  \n",
              "Dependent_count              2.000      3.000      5.000  \n",
              "Months_on_book              36.000     40.000     56.000  \n",
              "Total_Relationship_Count     4.000      5.000      6.000  \n",
              "Months_Inactive_12_mon       2.000      3.000      6.000  \n",
              "Contacts_Count_12_mon        2.000      3.000      6.000  \n",
              "Credit_Limit              4549.000  11067.500  34516.000  \n",
              "Total_Revolving_Bal       1276.000   1784.000   2517.000  \n",
              "Avg_Open_To_Buy           3474.000   9859.000  34516.000  \n",
              "Total_Amt_Chng_Q4_Q1         0.736      0.859      3.397  \n",
              "Total_Trans_Amt           3899.000   4741.000  18484.000  \n",
              "Total_Trans_Ct              67.000     81.000    139.000  \n",
              "Total_Ct_Chng_Q4_Q1          0.702      0.818      3.714  \n",
              "Avg_Utilization_Ratio        0.176      0.503      0.999  "
            ],
            "text/html": [
              "\n",
              "  <div id=\"df-e57b8c0f-1d96-4abc-8c37-114bb584734b\">\n",
              "    <div class=\"colab-df-container\">\n",
              "      <div>\n",
              "<style scoped>\n",
              "    .dataframe tbody tr th:only-of-type {\n",
              "        vertical-align: middle;\n",
              "    }\n",
              "\n",
              "    .dataframe tbody tr th {\n",
              "        vertical-align: top;\n",
              "    }\n",
              "\n",
              "    .dataframe thead th {\n",
              "        text-align: right;\n",
              "    }\n",
              "</style>\n",
              "<table border=\"1\" class=\"dataframe\">\n",
              "  <thead>\n",
              "    <tr style=\"text-align: right;\">\n",
              "      <th></th>\n",
              "      <th>count</th>\n",
              "      <th>mean</th>\n",
              "      <th>std</th>\n",
              "      <th>min</th>\n",
              "      <th>25%</th>\n",
              "      <th>50%</th>\n",
              "      <th>75%</th>\n",
              "      <th>max</th>\n",
              "    </tr>\n",
              "  </thead>\n",
              "  <tbody>\n",
              "    <tr>\n",
              "      <th>Customer_Age</th>\n",
              "      <td>10127.0</td>\n",
              "      <td>46.325960</td>\n",
              "      <td>8.016814</td>\n",
              "      <td>26.0</td>\n",
              "      <td>41.000</td>\n",
              "      <td>46.000</td>\n",
              "      <td>52.000</td>\n",
              "      <td>73.000</td>\n",
              "    </tr>\n",
              "    <tr>\n",
              "      <th>Dependent_count</th>\n",
              "      <td>10127.0</td>\n",
              "      <td>2.346203</td>\n",
              "      <td>1.298908</td>\n",
              "      <td>0.0</td>\n",
              "      <td>1.000</td>\n",
              "      <td>2.000</td>\n",
              "      <td>3.000</td>\n",
              "      <td>5.000</td>\n",
              "    </tr>\n",
              "    <tr>\n",
              "      <th>Months_on_book</th>\n",
              "      <td>10127.0</td>\n",
              "      <td>35.928409</td>\n",
              "      <td>7.986416</td>\n",
              "      <td>13.0</td>\n",
              "      <td>31.000</td>\n",
              "      <td>36.000</td>\n",
              "      <td>40.000</td>\n",
              "      <td>56.000</td>\n",
              "    </tr>\n",
              "    <tr>\n",
              "      <th>Total_Relationship_Count</th>\n",
              "      <td>10127.0</td>\n",
              "      <td>3.812580</td>\n",
              "      <td>1.554408</td>\n",
              "      <td>1.0</td>\n",
              "      <td>3.000</td>\n",
              "      <td>4.000</td>\n",
              "      <td>5.000</td>\n",
              "      <td>6.000</td>\n",
              "    </tr>\n",
              "    <tr>\n",
              "      <th>Months_Inactive_12_mon</th>\n",
              "      <td>10127.0</td>\n",
              "      <td>2.341167</td>\n",
              "      <td>1.010622</td>\n",
              "      <td>0.0</td>\n",
              "      <td>2.000</td>\n",
              "      <td>2.000</td>\n",
              "      <td>3.000</td>\n",
              "      <td>6.000</td>\n",
              "    </tr>\n",
              "    <tr>\n",
              "      <th>Contacts_Count_12_mon</th>\n",
              "      <td>10127.0</td>\n",
              "      <td>2.455317</td>\n",
              "      <td>1.106225</td>\n",
              "      <td>0.0</td>\n",
              "      <td>2.000</td>\n",
              "      <td>2.000</td>\n",
              "      <td>3.000</td>\n",
              "      <td>6.000</td>\n",
              "    </tr>\n",
              "    <tr>\n",
              "      <th>Credit_Limit</th>\n",
              "      <td>10127.0</td>\n",
              "      <td>8631.953698</td>\n",
              "      <td>9088.776650</td>\n",
              "      <td>1438.3</td>\n",
              "      <td>2555.000</td>\n",
              "      <td>4549.000</td>\n",
              "      <td>11067.500</td>\n",
              "      <td>34516.000</td>\n",
              "    </tr>\n",
              "    <tr>\n",
              "      <th>Total_Revolving_Bal</th>\n",
              "      <td>10127.0</td>\n",
              "      <td>1162.814061</td>\n",
              "      <td>814.987335</td>\n",
              "      <td>0.0</td>\n",
              "      <td>359.000</td>\n",
              "      <td>1276.000</td>\n",
              "      <td>1784.000</td>\n",
              "      <td>2517.000</td>\n",
              "    </tr>\n",
              "    <tr>\n",
              "      <th>Avg_Open_To_Buy</th>\n",
              "      <td>10127.0</td>\n",
              "      <td>7469.139637</td>\n",
              "      <td>9090.685324</td>\n",
              "      <td>3.0</td>\n",
              "      <td>1324.500</td>\n",
              "      <td>3474.000</td>\n",
              "      <td>9859.000</td>\n",
              "      <td>34516.000</td>\n",
              "    </tr>\n",
              "    <tr>\n",
              "      <th>Total_Amt_Chng_Q4_Q1</th>\n",
              "      <td>10127.0</td>\n",
              "      <td>0.759941</td>\n",
              "      <td>0.219207</td>\n",
              "      <td>0.0</td>\n",
              "      <td>0.631</td>\n",
              "      <td>0.736</td>\n",
              "      <td>0.859</td>\n",
              "      <td>3.397</td>\n",
              "    </tr>\n",
              "    <tr>\n",
              "      <th>Total_Trans_Amt</th>\n",
              "      <td>10127.0</td>\n",
              "      <td>4404.086304</td>\n",
              "      <td>3397.129254</td>\n",
              "      <td>510.0</td>\n",
              "      <td>2155.500</td>\n",
              "      <td>3899.000</td>\n",
              "      <td>4741.000</td>\n",
              "      <td>18484.000</td>\n",
              "    </tr>\n",
              "    <tr>\n",
              "      <th>Total_Trans_Ct</th>\n",
              "      <td>10127.0</td>\n",
              "      <td>64.858695</td>\n",
              "      <td>23.472570</td>\n",
              "      <td>10.0</td>\n",
              "      <td>45.000</td>\n",
              "      <td>67.000</td>\n",
              "      <td>81.000</td>\n",
              "      <td>139.000</td>\n",
              "    </tr>\n",
              "    <tr>\n",
              "      <th>Total_Ct_Chng_Q4_Q1</th>\n",
              "      <td>10127.0</td>\n",
              "      <td>0.712222</td>\n",
              "      <td>0.238086</td>\n",
              "      <td>0.0</td>\n",
              "      <td>0.582</td>\n",
              "      <td>0.702</td>\n",
              "      <td>0.818</td>\n",
              "      <td>3.714</td>\n",
              "    </tr>\n",
              "    <tr>\n",
              "      <th>Avg_Utilization_Ratio</th>\n",
              "      <td>10127.0</td>\n",
              "      <td>0.274894</td>\n",
              "      <td>0.275691</td>\n",
              "      <td>0.0</td>\n",
              "      <td>0.023</td>\n",
              "      <td>0.176</td>\n",
              "      <td>0.503</td>\n",
              "      <td>0.999</td>\n",
              "    </tr>\n",
              "  </tbody>\n",
              "</table>\n",
              "</div>\n",
              "      <button class=\"colab-df-convert\" onclick=\"convertToInteractive('df-e57b8c0f-1d96-4abc-8c37-114bb584734b')\"\n",
              "              title=\"Convert this dataframe to an interactive table.\"\n",
              "              style=\"display:none;\">\n",
              "        \n",
              "  <svg xmlns=\"http://www.w3.org/2000/svg\" height=\"24px\"viewBox=\"0 0 24 24\"\n",
              "       width=\"24px\">\n",
              "    <path d=\"M0 0h24v24H0V0z\" fill=\"none\"/>\n",
              "    <path d=\"M18.56 5.44l.94 2.06.94-2.06 2.06-.94-2.06-.94-.94-2.06-.94 2.06-2.06.94zm-11 1L8.5 8.5l.94-2.06 2.06-.94-2.06-.94L8.5 2.5l-.94 2.06-2.06.94zm10 10l.94 2.06.94-2.06 2.06-.94-2.06-.94-.94-2.06-.94 2.06-2.06.94z\"/><path d=\"M17.41 7.96l-1.37-1.37c-.4-.4-.92-.59-1.43-.59-.52 0-1.04.2-1.43.59L10.3 9.45l-7.72 7.72c-.78.78-.78 2.05 0 2.83L4 21.41c.39.39.9.59 1.41.59.51 0 1.02-.2 1.41-.59l7.78-7.78 2.81-2.81c.8-.78.8-2.07 0-2.86zM5.41 20L4 18.59l7.72-7.72 1.47 1.35L5.41 20z\"/>\n",
              "  </svg>\n",
              "      </button>\n",
              "      \n",
              "  <style>\n",
              "    .colab-df-container {\n",
              "      display:flex;\n",
              "      flex-wrap:wrap;\n",
              "      gap: 12px;\n",
              "    }\n",
              "\n",
              "    .colab-df-convert {\n",
              "      background-color: #E8F0FE;\n",
              "      border: none;\n",
              "      border-radius: 50%;\n",
              "      cursor: pointer;\n",
              "      display: none;\n",
              "      fill: #1967D2;\n",
              "      height: 32px;\n",
              "      padding: 0 0 0 0;\n",
              "      width: 32px;\n",
              "    }\n",
              "\n",
              "    .colab-df-convert:hover {\n",
              "      background-color: #E2EBFA;\n",
              "      box-shadow: 0px 1px 2px rgba(60, 64, 67, 0.3), 0px 1px 3px 1px rgba(60, 64, 67, 0.15);\n",
              "      fill: #174EA6;\n",
              "    }\n",
              "\n",
              "    [theme=dark] .colab-df-convert {\n",
              "      background-color: #3B4455;\n",
              "      fill: #D2E3FC;\n",
              "    }\n",
              "\n",
              "    [theme=dark] .colab-df-convert:hover {\n",
              "      background-color: #434B5C;\n",
              "      box-shadow: 0px 1px 3px 1px rgba(0, 0, 0, 0.15);\n",
              "      filter: drop-shadow(0px 1px 2px rgba(0, 0, 0, 0.3));\n",
              "      fill: #FFFFFF;\n",
              "    }\n",
              "  </style>\n",
              "\n",
              "      <script>\n",
              "        const buttonEl =\n",
              "          document.querySelector('#df-e57b8c0f-1d96-4abc-8c37-114bb584734b button.colab-df-convert');\n",
              "        buttonEl.style.display =\n",
              "          google.colab.kernel.accessAllowed ? 'block' : 'none';\n",
              "\n",
              "        async function convertToInteractive(key) {\n",
              "          const element = document.querySelector('#df-e57b8c0f-1d96-4abc-8c37-114bb584734b');\n",
              "          const dataTable =\n",
              "            await google.colab.kernel.invokeFunction('convertToInteractive',\n",
              "                                                     [key], {});\n",
              "          if (!dataTable) return;\n",
              "\n",
              "          const docLinkHtml = 'Like what you see? Visit the ' +\n",
              "            '<a target=\"_blank\" href=https://colab.research.google.com/notebooks/data_table.ipynb>data table notebook</a>'\n",
              "            + ' to learn more about interactive tables.';\n",
              "          element.innerHTML = '';\n",
              "          dataTable['output_type'] = 'display_data';\n",
              "          await google.colab.output.renderOutput(dataTable, element);\n",
              "          const docLink = document.createElement('div');\n",
              "          docLink.innerHTML = docLinkHtml;\n",
              "          element.appendChild(docLink);\n",
              "        }\n",
              "      </script>\n",
              "    </div>\n",
              "  </div>\n",
              "  "
            ]
          },
          "metadata": {},
          "execution_count": 48
        }
      ]
    },
    {
      "cell_type": "markdown",
      "source": [
        "> **Insights:** \n",
        "\n",
        "*   Nilai pada kolom `Credit_Limit`, `Avg_Open_To_Buy`, dan `Total_Trans_Amt` jauh lebih besar dari kolom lainnya. Kemungkinan besar memiliki banyak outlier dan terlihat right-skewed\n",
        "*   Selain 3 kolom di atas, nilainya cenderung sama\n",
        "\n"
      ],
      "metadata": {
        "id": "0A9pcEWuK0qd"
      }
    },
    {
      "cell_type": "code",
      "source": [
        "fig = plt.figure(figsize =(20, 50))\n",
        "data1 = customer_churn['Customer_Age']\n",
        "data2 = customer_churn['Dependent_count']\n",
        "data3 = customer_churn['Months_on_book']\n",
        "data4 = customer_churn['Total_Relationship_Count']\n",
        "data5 = customer_churn['Months_Inactive_12_mon']\n",
        "data6 = customer_churn['Contacts_Count_12_mon']\n",
        "data7 = customer_churn['Total_Amt_Chng_Q4_Q1']\n",
        "data8 = customer_churn['Total_Trans_Ct']\n",
        "data9 = customer_churn['Total_Ct_Chng_Q4_Q1']\n",
        "data10 = customer_churn['Avg_Utilization_Ratio']\n",
        "numf_small = [data1 , data2, data3, data4, data5, \n",
        "              data6, data7, data8, data9, data10]\n",
        "# Creating axes instance\n",
        "ax = fig.add_axes([0, 0, 1, 1])\n",
        " \n",
        "# Creating plot\n",
        "bp = ax.boxplot(numf_small)\n",
        "\n",
        "# x-axis labels\n",
        "ax.set_xticklabels(['Customer_Age', 'Dependent_count', 'Months_on_book', 'Total_Relationship_Count', \n",
        "                                        'Months_Inactive_12_mon', \"Contacts_Count_12_mon\", 'Total_Amt_Chng_Q4_Q1', \n",
        "                                        'Total_Trans_Ct', 'Total_Ct_Chng_Q4_Q1', 'Avg_Utilization_Ratio'])\n",
        " \n",
        "# Adding title\n",
        "plt.title(\"Columns with Small Values in Numerical Features\")\n",
        "\n",
        "# show plot\n",
        "plt.show()\n",
        "\n",
        "\n",
        "\n",
        "'''customer_churn[numfeat].plot(kind=\"box\", figsize=(10, 5))\n",
        "plt.grid(False)\n",
        "plt.show()'''\n",
        "\n",
        "'''plt.figure(figsize=(12, 6))\n",
        "sns.boxplot(x=\"Customer_Age\",  data=customer_churn)\n",
        "plt.show()'''"
      ],
      "metadata": {
        "colab": {
          "base_uri": "https://localhost:8080/",
          "height": 1000
        },
        "id": "elTk2u8m9o08",
        "outputId": "89ac5500-4e24-45d5-8b8f-d5c70133bfa3"
      },
      "execution_count": 49,
      "outputs": [
        {
          "output_type": "display_data",
          "data": {
            "text/plain": [
              "<Figure size 1440x3600 with 1 Axes>"
            ],
            "image/png": "[encoded data removed]"
          },
          "metadata": {
            "needs_background": "light"
          }
        },
        {
          "output_type": "execute_result",
          "data": {
            "text/plain": [
              "'plt.figure(figsize=(12, 6))\\nsns.boxplot(x=\"Customer_Age\",  data=customer_churn)\\nplt.show()'"
            ],
            "application/vnd.google.colaboratory.intrinsic+json": {
              "type": "string"
            }
          },
          "metadata": {},
          "execution_count": 49
        }
      ]
    },
    {
      "cell_type": "markdown",
      "source": [
        "> **Insights:**\n",
        "\n",
        "* Boxplot di atas telah dipisahkan dengan kolom-kolom yang memiliki nilai sangat besar (`Credit_Limit`, `Avg_Open_To_Buy`, dan `Total_Trans_Amt`) agar mudah melihat visualisasinya\n",
        "* Terlihat hampir seluruh kolom memiliki banyak outlier dan right-skewed.\n",
        "* Nilai dalam kolom `Customer_Age`, `Months_on_book`, dan `Total_Trans_Ct` memilki nilai yang besar dan agak jauh dari kolom lainnya.\n",
        "* Selain kolom `Customer_Age`, `Months_on_book`, dan `Total_Trans_Ct` memiliki median yang cenderung sama."
      ],
      "metadata": {
        "id": "3d_sSGZ_R5fg"
      }
    },
    {
      "cell_type": "code",
      "source": [
        "fig = plt.figure(figsize =(10, 6))\n",
        "data1 = customer_churn['Credit_Limit']\n",
        "data2 = customer_churn['Total_Revolving_Bal']\n",
        "data3 = customer_churn['Avg_Open_To_Buy']\n",
        "data4 = customer_churn['Total_Revolving_Bal']\n",
        "numf_big = [data1 , data2, data3, data4]\n",
        "# Creating axes instance\n",
        "ax = fig.add_axes([0, 0, 1, 1])\n",
        "\n",
        "# Creating plot\n",
        "bp = ax.boxplot(numf_big)\n",
        "\n",
        "# x-axis labels\n",
        "ax.set_xticklabels(['Credit_Limit', 'Total_Revolving_Bal', \"Avg_Open_To_Buy\", 'Total_Trans_Amt'])\n",
        " \n",
        "# Adding title\n",
        "plt.title(\"Columns with Big Values in Numerical Features\")\n",
        "# show plot\n",
        "plt.show()"
      ],
      "metadata": {
        "colab": {
          "base_uri": "https://localhost:8080/",
          "height": 497
        },
        "id": "iOL578QcKRcI",
        "outputId": "f2fe4561-3b42-4f35-e6a4-10e4d2fe314d"
      },
      "execution_count": 50,
      "outputs": [
        {
          "output_type": "display_data",
          "data": {
            "text/plain": [
              "<Figure size 720x432 with 1 Axes>"
            ],
            "image/png": "[encoded data removed]"
          },
          "metadata": {
            "needs_background": "light"
          }
        }
      ]
    },
    {
      "cell_type": "markdown",
      "source": [
        "> **Insights:**\n",
        "\n",
        "* Pemisahan 4 kolom di atas diperlukan, karena jika tidak dipisahkan akan mengganggu visualisasi boxplot yang dilakukan, melihat dari nilai min dan max yang sangat besar dibandingan dengan kolom yang lain yang memiki nilai jauh lebih kecil seperti pada boxplot sebelumnya.\n",
        "* Kolom `Credit_Limit` dan `Avg_Open_To_Buy` adalah right-skewed yang memiliki banyak sekali outlier.\n",
        "* Kolom `Total_revolving_Bal` dan `Total_Trans_Amt` bersih dari outlier dan memiliki nilai summary yang sama."
      ],
      "metadata": {
        "id": "csbEpX1pTEXx"
      }
    },
    {
      "cell_type": "markdown",
      "source": [
        "##Categorical Describe"
      ],
      "metadata": {
        "id": "Cu0myE0i5dMZ"
      }
    },
    {
      "cell_type": "code",
      "source": [
        "customer_churn[categorical_features].describe().T"
      ],
      "metadata": {
        "colab": {
          "base_uri": "https://localhost:8080/",
          "height": 238
        },
        "id": "6vy7od8w_wZD",
        "outputId": "d102f4bf-1963-41ba-d0f2-b79237fb49b9"
      },
      "execution_count": 51,
      "outputs": [
        {
          "output_type": "execute_result",
          "data": {
            "text/plain": [
              "                 count unique                top  freq\n",
              "Attrition_Flag   10127      2  Existing Customer  8500\n",
              "Gender           10127      2                  F  5358\n",
              "Education_Level  10127      7           Graduate  3128\n",
              "Marital_Status   10127      4            Married  4687\n",
              "Income_Category  10127      6     Less than $40K  3561\n",
              "Card_Category    10127      4               Blue  9436"
            ],
            "text/html": [
              "\n",
              "  <div id=\"df-2929e202-19e8-4458-bcd1-7eb0b041db5f\">\n",
              "    <div class=\"colab-df-container\">\n",
              "      <div>\n",
              "<style scoped>\n",
              "    .dataframe tbody tr th:only-of-type {\n",
              "        vertical-align: middle;\n",
              "    }\n",
              "\n",
              "    .dataframe tbody tr th {\n",
              "        vertical-align: top;\n",
              "    }\n",
              "\n",
              "    .dataframe thead th {\n",
              "        text-align: right;\n",
              "    }\n",
              "</style>\n",
              "<table border=\"1\" class=\"dataframe\">\n",
              "  <thead>\n",
              "    <tr style=\"text-align: right;\">\n",
              "      <th></th>\n",
              "      <th>count</th>\n",
              "      <th>unique</th>\n",
              "      <th>top</th>\n",
              "      <th>freq</th>\n",
              "    </tr>\n",
              "  </thead>\n",
              "  <tbody>\n",
              "    <tr>\n",
              "      <th>Attrition_Flag</th>\n",
              "      <td>10127</td>\n",
              "      <td>2</td>\n",
              "      <td>Existing Customer</td>\n",
              "      <td>8500</td>\n",
              "    </tr>\n",
              "    <tr>\n",
              "      <th>Gender</th>\n",
              "      <td>10127</td>\n",
              "      <td>2</td>\n",
              "      <td>F</td>\n",
              "      <td>5358</td>\n",
              "    </tr>\n",
              "    <tr>\n",
              "      <th>Education_Level</th>\n",
              "      <td>10127</td>\n",
              "      <td>7</td>\n",
              "      <td>Graduate</td>\n",
              "      <td>3128</td>\n",
              "    </tr>\n",
              "    <tr>\n",
              "      <th>Marital_Status</th>\n",
              "      <td>10127</td>\n",
              "      <td>4</td>\n",
              "      <td>Married</td>\n",
              "      <td>4687</td>\n",
              "    </tr>\n",
              "    <tr>\n",
              "      <th>Income_Category</th>\n",
              "      <td>10127</td>\n",
              "      <td>6</td>\n",
              "      <td>Less than $40K</td>\n",
              "      <td>3561</td>\n",
              "    </tr>\n",
              "    <tr>\n",
              "      <th>Card_Category</th>\n",
              "      <td>10127</td>\n",
              "      <td>4</td>\n",
              "      <td>Blue</td>\n",
              "      <td>9436</td>\n",
              "    </tr>\n",
              "  </tbody>\n",
              "</table>\n",
              "</div>\n",
              "      <button class=\"colab-df-convert\" onclick=\"convertToInteractive('df-2929e202-19e8-4458-bcd1-7eb0b041db5f')\"\n",
              "              title=\"Convert this dataframe to an interactive table.\"\n",
              "              style=\"display:none;\">\n",
              "        \n",
              "  <svg xmlns=\"http://www.w3.org/2000/svg\" height=\"24px\"viewBox=\"0 0 24 24\"\n",
              "       width=\"24px\">\n",
              "    <path d=\"M0 0h24v24H0V0z\" fill=\"none\"/>\n",
              "    <path d=\"M18.56 5.44l.94 2.06.94-2.06 2.06-.94-2.06-.94-.94-2.06-.94 2.06-2.06.94zm-11 1L8.5 8.5l.94-2.06 2.06-.94-2.06-.94L8.5 2.5l-.94 2.06-2.06.94zm10 10l.94 2.06.94-2.06 2.06-.94-2.06-.94-.94-2.06-.94 2.06-2.06.94z\"/><path d=\"M17.41 7.96l-1.37-1.37c-.4-.4-.92-.59-1.43-.59-.52 0-1.04.2-1.43.59L10.3 9.45l-7.72 7.72c-.78.78-.78 2.05 0 2.83L4 21.41c.39.39.9.59 1.41.59.51 0 1.02-.2 1.41-.59l7.78-7.78 2.81-2.81c.8-.78.8-2.07 0-2.86zM5.41 20L4 18.59l7.72-7.72 1.47 1.35L5.41 20z\"/>\n",
              "  </svg>\n",
              "      </button>\n",
              "      \n",
              "  <style>\n",
              "    .colab-df-container {\n",
              "      display:flex;\n",
              "      flex-wrap:wrap;\n",
              "      gap: 12px;\n",
              "    }\n",
              "\n",
              "    .colab-df-convert {\n",
              "      background-color: #E8F0FE;\n",
              "      border: none;\n",
              "      border-radius: 50%;\n",
              "      cursor: pointer;\n",
              "      display: none;\n",
              "      fill: #1967D2;\n",
              "      height: 32px;\n",
              "      padding: 0 0 0 0;\n",
              "      width: 32px;\n",
              "    }\n",
              "\n",
              "    .colab-df-convert:hover {\n",
              "      background-color: #E2EBFA;\n",
              "      box-shadow: 0px 1px 2px rgba(60, 64, 67, 0.3), 0px 1px 3px 1px rgba(60, 64, 67, 0.15);\n",
              "      fill: #174EA6;\n",
              "    }\n",
              "\n",
              "    [theme=dark] .colab-df-convert {\n",
              "      background-color: #3B4455;\n",
              "      fill: #D2E3FC;\n",
              "    }\n",
              "\n",
              "    [theme=dark] .colab-df-convert:hover {\n",
              "      background-color: #434B5C;\n",
              "      box-shadow: 0px 1px 3px 1px rgba(0, 0, 0, 0.15);\n",
              "      filter: drop-shadow(0px 1px 2px rgba(0, 0, 0, 0.3));\n",
              "      fill: #FFFFFF;\n",
              "    }\n",
              "  </style>\n",
              "\n",
              "      <script>\n",
              "        const buttonEl =\n",
              "          document.querySelector('#df-2929e202-19e8-4458-bcd1-7eb0b041db5f button.colab-df-convert');\n",
              "        buttonEl.style.display =\n",
              "          google.colab.kernel.accessAllowed ? 'block' : 'none';\n",
              "\n",
              "        async function convertToInteractive(key) {\n",
              "          const element = document.querySelector('#df-2929e202-19e8-4458-bcd1-7eb0b041db5f');\n",
              "          const dataTable =\n",
              "            await google.colab.kernel.invokeFunction('convertToInteractive',\n",
              "                                                     [key], {});\n",
              "          if (!dataTable) return;\n",
              "\n",
              "          const docLinkHtml = 'Like what you see? Visit the ' +\n",
              "            '<a target=\"_blank\" href=https://colab.research.google.com/notebooks/data_table.ipynb>data table notebook</a>'\n",
              "            + ' to learn more about interactive tables.';\n",
              "          element.innerHTML = '';\n",
              "          dataTable['output_type'] = 'display_data';\n",
              "          await google.colab.output.renderOutput(dataTable, element);\n",
              "          const docLink = document.createElement('div');\n",
              "          docLink.innerHTML = docLinkHtml;\n",
              "          element.appendChild(docLink);\n",
              "        }\n",
              "      </script>\n",
              "    </div>\n",
              "  </div>\n",
              "  "
            ]
          },
          "metadata": {},
          "execution_count": 51
        }
      ]
    },
    {
      "cell_type": "markdown",
      "source": [
        "##Correlation"
      ],
      "metadata": {
        "id": "gsMVGNNP5fpe"
      }
    },
    {
      "cell_type": "code",
      "source": [
        "customer_churn.corr()"
      ],
      "metadata": {
        "colab": {
          "base_uri": "https://localhost:8080/",
          "height": 552
        },
        "id": "5ZVNgvGT_-pU",
        "outputId": "9be3d507-5050-4759-f8d0-43102cd4d3a8"
      },
      "execution_count": 52,
      "outputs": [
        {
          "output_type": "execute_result",
          "data": {
            "text/plain": [
              "                          Customer_Age  Dependent_count  Months_on_book  \\\n",
              "Customer_Age                  1.000000        -0.122254        0.788912   \n",
              "Dependent_count              -0.122254         1.000000       -0.103062   \n",
              "Months_on_book                0.788912        -0.103062        1.000000   \n",
              "Total_Relationship_Count     -0.010931        -0.039076       -0.009203   \n",
              "Months_Inactive_12_mon        0.054361        -0.010768        0.074164   \n",
              "Contacts_Count_12_mon        -0.018452        -0.040505       -0.010774   \n",
              "Credit_Limit                  0.002476         0.068065        0.007507   \n",
              "Total_Revolving_Bal           0.014780        -0.002688        0.008623   \n",
              "Avg_Open_To_Buy               0.001151         0.068291        0.006732   \n",
              "Total_Amt_Chng_Q4_Q1         -0.062042        -0.035439       -0.048959   \n",
              "Total_Trans_Amt              -0.046446         0.025046       -0.038591   \n",
              "Total_Trans_Ct               -0.067097         0.049912       -0.049819   \n",
              "Total_Ct_Chng_Q4_Q1          -0.012143         0.011087       -0.014072   \n",
              "Avg_Utilization_Ratio         0.007114        -0.037135       -0.007541   \n",
              "\n",
              "                          Total_Relationship_Count  Months_Inactive_12_mon  \\\n",
              "Customer_Age                             -0.010931                0.054361   \n",
              "Dependent_count                          -0.039076               -0.010768   \n",
              "Months_on_book                           -0.009203                0.074164   \n",
              "Total_Relationship_Count                  1.000000               -0.003675   \n",
              "Months_Inactive_12_mon                   -0.003675                1.000000   \n",
              "Contacts_Count_12_mon                     0.055203                0.029493   \n",
              "Credit_Limit                             -0.071386               -0.020394   \n",
              "Total_Revolving_Bal                       0.013726               -0.042210   \n",
              "Avg_Open_To_Buy                          -0.072601               -0.016605   \n",
              "Total_Amt_Chng_Q4_Q1                      0.050119               -0.032247   \n",
              "Total_Trans_Amt                          -0.347229               -0.036982   \n",
              "Total_Trans_Ct                           -0.241891               -0.042787   \n",
              "Total_Ct_Chng_Q4_Q1                       0.040831               -0.038989   \n",
              "Avg_Utilization_Ratio                     0.067663               -0.007503   \n",
              "\n",
              "                          Contacts_Count_12_mon  Credit_Limit  \\\n",
              "Customer_Age                          -0.018452      0.002476   \n",
              "Dependent_count                       -0.040505      0.068065   \n",
              "Months_on_book                        -0.010774      0.007507   \n",
              "Total_Relationship_Count               0.055203     -0.071386   \n",
              "Months_Inactive_12_mon                 0.029493     -0.020394   \n",
              "Contacts_Count_12_mon                  1.000000      0.020817   \n",
              "Credit_Limit                           0.020817      1.000000   \n",
              "Total_Revolving_Bal                   -0.053913      0.042493   \n",
              "Avg_Open_To_Buy                        0.025646      0.995981   \n",
              "Total_Amt_Chng_Q4_Q1                  -0.024445      0.012813   \n",
              "Total_Trans_Amt                       -0.112774      0.171730   \n",
              "Total_Trans_Ct                        -0.152213      0.075927   \n",
              "Total_Ct_Chng_Q4_Q1                   -0.094997     -0.002020   \n",
              "Avg_Utilization_Ratio                 -0.055471     -0.482965   \n",
              "\n",
              "                          Total_Revolving_Bal  Avg_Open_To_Buy  \\\n",
              "Customer_Age                         0.014780         0.001151   \n",
              "Dependent_count                     -0.002688         0.068291   \n",
              "Months_on_book                       0.008623         0.006732   \n",
              "Total_Relationship_Count             0.013726        -0.072601   \n",
              "Months_Inactive_12_mon              -0.042210        -0.016605   \n",
              "Contacts_Count_12_mon               -0.053913         0.025646   \n",
              "Credit_Limit                         0.042493         0.995981   \n",
              "Total_Revolving_Bal                  1.000000        -0.047167   \n",
              "Avg_Open_To_Buy                     -0.047167         1.000000   \n",
              "Total_Amt_Chng_Q4_Q1                 0.058174         0.007595   \n",
              "Total_Trans_Amt                      0.064370         0.165923   \n",
              "Total_Trans_Ct                       0.056060         0.070885   \n",
              "Total_Ct_Chng_Q4_Q1                  0.089861        -0.010076   \n",
              "Avg_Utilization_Ratio                0.624022        -0.538808   \n",
              "\n",
              "                          Total_Amt_Chng_Q4_Q1  Total_Trans_Amt  \\\n",
              "Customer_Age                         -0.062042        -0.046446   \n",
              "Dependent_count                      -0.035439         0.025046   \n",
              "Months_on_book                       -0.048959        -0.038591   \n",
              "Total_Relationship_Count              0.050119        -0.347229   \n",
              "Months_Inactive_12_mon               -0.032247        -0.036982   \n",
              "Contacts_Count_12_mon                -0.024445        -0.112774   \n",
              "Credit_Limit                          0.012813         0.171730   \n",
              "Total_Revolving_Bal                   0.058174         0.064370   \n",
              "Avg_Open_To_Buy                       0.007595         0.165923   \n",
              "Total_Amt_Chng_Q4_Q1                  1.000000         0.039678   \n",
              "Total_Trans_Amt                       0.039678         1.000000   \n",
              "Total_Trans_Ct                        0.005469         0.807192   \n",
              "Total_Ct_Chng_Q4_Q1                   0.384189         0.085581   \n",
              "Avg_Utilization_Ratio                 0.035235        -0.083034   \n",
              "\n",
              "                          Total_Trans_Ct  Total_Ct_Chng_Q4_Q1  \\\n",
              "Customer_Age                   -0.067097            -0.012143   \n",
              "Dependent_count                 0.049912             0.011087   \n",
              "Months_on_book                 -0.049819            -0.014072   \n",
              "Total_Relationship_Count       -0.241891             0.040831   \n",
              "Months_Inactive_12_mon         -0.042787            -0.038989   \n",
              "Contacts_Count_12_mon          -0.152213            -0.094997   \n",
              "Credit_Limit                    0.075927            -0.002020   \n",
              "Total_Revolving_Bal             0.056060             0.089861   \n",
              "Avg_Open_To_Buy                 0.070885            -0.010076   \n",
              "Total_Amt_Chng_Q4_Q1            0.005469             0.384189   \n",
              "Total_Trans_Amt                 0.807192             0.085581   \n",
              "Total_Trans_Ct                  1.000000             0.112324   \n",
              "Total_Ct_Chng_Q4_Q1             0.112324             1.000000   \n",
              "Avg_Utilization_Ratio           0.002838             0.074143   \n",
              "\n",
              "                          Avg_Utilization_Ratio  \n",
              "Customer_Age                           0.007114  \n",
              "Dependent_count                       -0.037135  \n",
              "Months_on_book                        -0.007541  \n",
              "Total_Relationship_Count               0.067663  \n",
              "Months_Inactive_12_mon                -0.007503  \n",
              "Contacts_Count_12_mon                 -0.055471  \n",
              "Credit_Limit                          -0.482965  \n",
              "Total_Revolving_Bal                    0.624022  \n",
              "Avg_Open_To_Buy                       -0.538808  \n",
              "Total_Amt_Chng_Q4_Q1                   0.035235  \n",
              "Total_Trans_Amt                       -0.083034  \n",
              "Total_Trans_Ct                         0.002838  \n",
              "Total_Ct_Chng_Q4_Q1                    0.074143  \n",
              "Avg_Utilization_Ratio                  1.000000  "
            ],
            "text/html": [
              "\n",
              "  <div id=\"df-74c0139f-f019-4477-bf1c-e7f39263ea9d\">\n",
              "    <div class=\"colab-df-container\">\n",
              "      <div>\n",
              "<style scoped>\n",
              "    .dataframe tbody tr th:only-of-type {\n",
              "        vertical-align: middle;\n",
              "    }\n",
              "\n",
              "    .dataframe tbody tr th {\n",
              "        vertical-align: top;\n",
              "    }\n",
              "\n",
              "    .dataframe thead th {\n",
              "        text-align: right;\n",
              "    }\n",
              "</style>\n",
              "<table border=\"1\" class=\"dataframe\">\n",
              "  <thead>\n",
              "    <tr style=\"text-align: right;\">\n",
              "      <th></th>\n",
              "      <th>Customer_Age</th>\n",
              "      <th>Dependent_count</th>\n",
              "      <th>Months_on_book</th>\n",
              "      <th>Total_Relationship_Count</th>\n",
              "      <th>Months_Inactive_12_mon</th>\n",
              "      <th>Contacts_Count_12_mon</th>\n",
              "      <th>Credit_Limit</th>\n",
              "      <th>Total_Revolving_Bal</th>\n",
              "      <th>Avg_Open_To_Buy</th>\n",
              "      <th>Total_Amt_Chng_Q4_Q1</th>\n",
              "      <th>Total_Trans_Amt</th>\n",
              "      <th>Total_Trans_Ct</th>\n",
              "      <th>Total_Ct_Chng_Q4_Q1</th>\n",
              "      <th>Avg_Utilization_Ratio</th>\n",
              "    </tr>\n",
              "  </thead>\n",
              "  <tbody>\n",
              "    <tr>\n",
              "      <th>Customer_Age</th>\n",
              "      <td>1.000000</td>\n",
              "      <td>-0.122254</td>\n",
              "      <td>0.788912</td>\n",
              "      <td>-0.010931</td>\n",
              "      <td>0.054361</td>\n",
              "      <td>-0.018452</td>\n",
              "      <td>0.002476</td>\n",
              "      <td>0.014780</td>\n",
              "      <td>0.001151</td>\n",
              "      <td>-0.062042</td>\n",
              "      <td>-0.046446</td>\n",
              "      <td>-0.067097</td>\n",
              "      <td>-0.012143</td>\n",
              "      <td>0.007114</td>\n",
              "    </tr>\n",
              "    <tr>\n",
              "      <th>Dependent_count</th>\n",
              "      <td>-0.122254</td>\n",
              "      <td>1.000000</td>\n",
              "      <td>-0.103062</td>\n",
              "      <td>-0.039076</td>\n",
              "      <td>-0.010768</td>\n",
              "      <td>-0.040505</td>\n",
              "      <td>0.068065</td>\n",
              "      <td>-0.002688</td>\n",
              "      <td>0.068291</td>\n",
              "      <td>-0.035439</td>\n",
              "      <td>0.025046</td>\n",
              "      <td>0.049912</td>\n",
              "      <td>0.011087</td>\n",
              "      <td>-0.037135</td>\n",
              "    </tr>\n",
              "    <tr>\n",
              "      <th>Months_on_book</th>\n",
              "      <td>0.788912</td>\n",
              "      <td>-0.103062</td>\n",
              "      <td>1.000000</td>\n",
              "      <td>-0.009203</td>\n",
              "      <td>0.074164</td>\n",
              "      <td>-0.010774</td>\n",
              "      <td>0.007507</td>\n",
              "      <td>0.008623</td>\n",
              "      <td>0.006732</td>\n",
              "      <td>-0.048959</td>\n",
              "      <td>-0.038591</td>\n",
              "      <td>-0.049819</td>\n",
              "      <td>-0.014072</td>\n",
              "      <td>-0.007541</td>\n",
              "    </tr>\n",
              "    <tr>\n",
              "      <th>Total_Relationship_Count</th>\n",
              "      <td>-0.010931</td>\n",
              "      <td>-0.039076</td>\n",
              "      <td>-0.009203</td>\n",
              "      <td>1.000000</td>\n",
              "      <td>-0.003675</td>\n",
              "      <td>0.055203</td>\n",
              "      <td>-0.071386</td>\n",
              "      <td>0.013726</td>\n",
              "      <td>-0.072601</td>\n",
              "      <td>0.050119</td>\n",
              "      <td>-0.347229</td>\n",
              "      <td>-0.241891</td>\n",
              "      <td>0.040831</td>\n",
              "      <td>0.067663</td>\n",
              "    </tr>\n",
              "    <tr>\n",
              "      <th>Months_Inactive_12_mon</th>\n",
              "      <td>0.054361</td>\n",
              "      <td>-0.010768</td>\n",
              "      <td>0.074164</td>\n",
              "      <td>-0.003675</td>\n",
              "      <td>1.000000</td>\n",
              "      <td>0.029493</td>\n",
              "      <td>-0.020394</td>\n",
              "      <td>-0.042210</td>\n",
              "      <td>-0.016605</td>\n",
              "      <td>-0.032247</td>\n",
              "      <td>-0.036982</td>\n",
              "      <td>-0.042787</td>\n",
              "      <td>-0.038989</td>\n",
              "      <td>-0.007503</td>\n",
              "    </tr>\n",
              "    <tr>\n",
              "      <th>Contacts_Count_12_mon</th>\n",
              "      <td>-0.018452</td>\n",
              "      <td>-0.040505</td>\n",
              "      <td>-0.010774</td>\n",
              "      <td>0.055203</td>\n",
              "      <td>0.029493</td>\n",
              "      <td>1.000000</td>\n",
              "      <td>0.020817</td>\n",
              "      <td>-0.053913</td>\n",
              "      <td>0.025646</td>\n",
              "      <td>-0.024445</td>\n",
              "      <td>-0.112774</td>\n",
              "      <td>-0.152213</td>\n",
              "      <td>-0.094997</td>\n",
              "      <td>-0.055471</td>\n",
              "    </tr>\n",
              "    <tr>\n",
              "      <th>Credit_Limit</th>\n",
              "      <td>0.002476</td>\n",
              "      <td>0.068065</td>\n",
              "      <td>0.007507</td>\n",
              "      <td>-0.071386</td>\n",
              "      <td>-0.020394</td>\n",
              "      <td>0.020817</td>\n",
              "      <td>1.000000</td>\n",
              "      <td>0.042493</td>\n",
              "      <td>0.995981</td>\n",
              "      <td>0.012813</td>\n",
              "      <td>0.171730</td>\n",
              "      <td>0.075927</td>\n",
              "      <td>-0.002020</td>\n",
              "      <td>-0.482965</td>\n",
              "    </tr>\n",
              "    <tr>\n",
              "      <th>Total_Revolving_Bal</th>\n",
              "      <td>0.014780</td>\n",
              "      <td>-0.002688</td>\n",
              "      <td>0.008623</td>\n",
              "      <td>0.013726</td>\n",
              "      <td>-0.042210</td>\n",
              "      <td>-0.053913</td>\n",
              "      <td>0.042493</td>\n",
              "      <td>1.000000</td>\n",
              "      <td>-0.047167</td>\n",
              "      <td>0.058174</td>\n",
              "      <td>0.064370</td>\n",
              "      <td>0.056060</td>\n",
              "      <td>0.089861</td>\n",
              "      <td>0.624022</td>\n",
              "    </tr>\n",
              "    <tr>\n",
              "      <th>Avg_Open_To_Buy</th>\n",
              "      <td>0.001151</td>\n",
              "      <td>0.068291</td>\n",
              "      <td>0.006732</td>\n",
              "      <td>-0.072601</td>\n",
              "      <td>-0.016605</td>\n",
              "      <td>0.025646</td>\n",
              "      <td>0.995981</td>\n",
              "      <td>-0.047167</td>\n",
              "      <td>1.000000</td>\n",
              "      <td>0.007595</td>\n",
              "      <td>0.165923</td>\n",
              "      <td>0.070885</td>\n",
              "      <td>-0.010076</td>\n",
              "      <td>-0.538808</td>\n",
              "    </tr>\n",
              "    <tr>\n",
              "      <th>Total_Amt_Chng_Q4_Q1</th>\n",
              "      <td>-0.062042</td>\n",
              "      <td>-0.035439</td>\n",
              "      <td>-0.048959</td>\n",
              "      <td>0.050119</td>\n",
              "      <td>-0.032247</td>\n",
              "      <td>-0.024445</td>\n",
              "      <td>0.012813</td>\n",
              "      <td>0.058174</td>\n",
              "      <td>0.007595</td>\n",
              "      <td>1.000000</td>\n",
              "      <td>0.039678</td>\n",
              "      <td>0.005469</td>\n",
              "      <td>0.384189</td>\n",
              "      <td>0.035235</td>\n",
              "    </tr>\n",
              "    <tr>\n",
              "      <th>Total_Trans_Amt</th>\n",
              "      <td>-0.046446</td>\n",
              "      <td>0.025046</td>\n",
              "      <td>-0.038591</td>\n",
              "      <td>-0.347229</td>\n",
              "      <td>-0.036982</td>\n",
              "      <td>-0.112774</td>\n",
              "      <td>0.171730</td>\n",
              "      <td>0.064370</td>\n",
              "      <td>0.165923</td>\n",
              "      <td>0.039678</td>\n",
              "      <td>1.000000</td>\n",
              "      <td>0.807192</td>\n",
              "      <td>0.085581</td>\n",
              "      <td>-0.083034</td>\n",
              "    </tr>\n",
              "    <tr>\n",
              "      <th>Total_Trans_Ct</th>\n",
              "      <td>-0.067097</td>\n",
              "      <td>0.049912</td>\n",
              "      <td>-0.049819</td>\n",
              "      <td>-0.241891</td>\n",
              "      <td>-0.042787</td>\n",
              "      <td>-0.152213</td>\n",
              "      <td>0.075927</td>\n",
              "      <td>0.056060</td>\n",
              "      <td>0.070885</td>\n",
              "      <td>0.005469</td>\n",
              "      <td>0.807192</td>\n",
              "      <td>1.000000</td>\n",
              "      <td>0.112324</td>\n",
              "      <td>0.002838</td>\n",
              "    </tr>\n",
              "    <tr>\n",
              "      <th>Total_Ct_Chng_Q4_Q1</th>\n",
              "      <td>-0.012143</td>\n",
              "      <td>0.011087</td>\n",
              "      <td>-0.014072</td>\n",
              "      <td>0.040831</td>\n",
              "      <td>-0.038989</td>\n",
              "      <td>-0.094997</td>\n",
              "      <td>-0.002020</td>\n",
              "      <td>0.089861</td>\n",
              "      <td>-0.010076</td>\n",
              "      <td>0.384189</td>\n",
              "      <td>0.085581</td>\n",
              "      <td>0.112324</td>\n",
              "      <td>1.000000</td>\n",
              "      <td>0.074143</td>\n",
              "    </tr>\n",
              "    <tr>\n",
              "      <th>Avg_Utilization_Ratio</th>\n",
              "      <td>0.007114</td>\n",
              "      <td>-0.037135</td>\n",
              "      <td>-0.007541</td>\n",
              "      <td>0.067663</td>\n",
              "      <td>-0.007503</td>\n",
              "      <td>-0.055471</td>\n",
              "      <td>-0.482965</td>\n",
              "      <td>0.624022</td>\n",
              "      <td>-0.538808</td>\n",
              "      <td>0.035235</td>\n",
              "      <td>-0.083034</td>\n",
              "      <td>0.002838</td>\n",
              "      <td>0.074143</td>\n",
              "      <td>1.000000</td>\n",
              "    </tr>\n",
              "  </tbody>\n",
              "</table>\n",
              "</div>\n",
              "      <button class=\"colab-df-convert\" onclick=\"convertToInteractive('df-74c0139f-f019-4477-bf1c-e7f39263ea9d')\"\n",
              "              title=\"Convert this dataframe to an interactive table.\"\n",
              "              style=\"display:none;\">\n",
              "        \n",
              "  <svg xmlns=\"http://www.w3.org/2000/svg\" height=\"24px\"viewBox=\"0 0 24 24\"\n",
              "       width=\"24px\">\n",
              "    <path d=\"M0 0h24v24H0V0z\" fill=\"none\"/>\n",
              "    <path d=\"M18.56 5.44l.94 2.06.94-2.06 2.06-.94-2.06-.94-.94-2.06-.94 2.06-2.06.94zm-11 1L8.5 8.5l.94-2.06 2.06-.94-2.06-.94L8.5 2.5l-.94 2.06-2.06.94zm10 10l.94 2.06.94-2.06 2.06-.94-2.06-.94-.94-2.06-.94 2.06-2.06.94z\"/><path d=\"M17.41 7.96l-1.37-1.37c-.4-.4-.92-.59-1.43-.59-.52 0-1.04.2-1.43.59L10.3 9.45l-7.72 7.72c-.78.78-.78 2.05 0 2.83L4 21.41c.39.39.9.59 1.41.59.51 0 1.02-.2 1.41-.59l7.78-7.78 2.81-2.81c.8-.78.8-2.07 0-2.86zM5.41 20L4 18.59l7.72-7.72 1.47 1.35L5.41 20z\"/>\n",
              "  </svg>\n",
              "      </button>\n",
              "      \n",
              "  <style>\n",
              "    .colab-df-container {\n",
              "      display:flex;\n",
              "      flex-wrap:wrap;\n",
              "      gap: 12px;\n",
              "    }\n",
              "\n",
              "    .colab-df-convert {\n",
              "      background-color: #E8F0FE;\n",
              "      border: none;\n",
              "      border-radius: 50%;\n",
              "      cursor: pointer;\n",
              "      display: none;\n",
              "      fill: #1967D2;\n",
              "      height: 32px;\n",
              "      padding: 0 0 0 0;\n",
              "      width: 32px;\n",
              "    }\n",
              "\n",
              "    .colab-df-convert:hover {\n",
              "      background-color: #E2EBFA;\n",
              "      box-shadow: 0px 1px 2px rgba(60, 64, 67, 0.3), 0px 1px 3px 1px rgba(60, 64, 67, 0.15);\n",
              "      fill: #174EA6;\n",
              "    }\n",
              "\n",
              "    [theme=dark] .colab-df-convert {\n",
              "      background-color: #3B4455;\n",
              "      fill: #D2E3FC;\n",
              "    }\n",
              "\n",
              "    [theme=dark] .colab-df-convert:hover {\n",
              "      background-color: #434B5C;\n",
              "      box-shadow: 0px 1px 3px 1px rgba(0, 0, 0, 0.15);\n",
              "      filter: drop-shadow(0px 1px 2px rgba(0, 0, 0, 0.3));\n",
              "      fill: #FFFFFF;\n",
              "    }\n",
              "  </style>\n",
              "\n",
              "      <script>\n",
              "        const buttonEl =\n",
              "          document.querySelector('#df-74c0139f-f019-4477-bf1c-e7f39263ea9d button.colab-df-convert');\n",
              "        buttonEl.style.display =\n",
              "          google.colab.kernel.accessAllowed ? 'block' : 'none';\n",
              "\n",
              "        async function convertToInteractive(key) {\n",
              "          const element = document.querySelector('#df-74c0139f-f019-4477-bf1c-e7f39263ea9d');\n",
              "          const dataTable =\n",
              "            await google.colab.kernel.invokeFunction('convertToInteractive',\n",
              "                                                     [key], {});\n",
              "          if (!dataTable) return;\n",
              "\n",
              "          const docLinkHtml = 'Like what you see? Visit the ' +\n",
              "            '<a target=\"_blank\" href=https://colab.research.google.com/notebooks/data_table.ipynb>data table notebook</a>'\n",
              "            + ' to learn more about interactive tables.';\n",
              "          element.innerHTML = '';\n",
              "          dataTable['output_type'] = 'display_data';\n",
              "          await google.colab.output.renderOutput(dataTable, element);\n",
              "          const docLink = document.createElement('div');\n",
              "          docLink.innerHTML = docLinkHtml;\n",
              "          element.appendChild(docLink);\n",
              "        }\n",
              "      </script>\n",
              "    </div>\n",
              "  </div>\n",
              "  "
            ]
          },
          "metadata": {},
          "execution_count": 52
        }
      ]
    },
    {
      "cell_type": "code",
      "source": [
        "plt.figure(figsize=(20, 10))\n",
        "sns.heatmap(customer_churn.corr(), annot=True, fmt=\".2f\")\n",
        "plt.show()"
      ],
      "metadata": {
        "colab": {
          "base_uri": "https://localhost:8080/",
          "height": 583
        },
        "id": "kQt57N86AJ4Y",
        "outputId": "2f02459a-741a-43bb-9fb0-fb9a354537d6"
      },
      "execution_count": 53,
      "outputs": [
        {
          "output_type": "display_data",
          "data": {
            "text/plain": [
              "<Figure size 1440x720 with 2 Axes>"
            ],
            "image/png": "[encoded data removed]"
          },
          "metadata": {
            "needs_background": "light"
          }
        }
      ]
    },
    {
      "cell_type": "markdown",
      "source": [
        "> **Insights:** \n",
        "\n",
        "* Terlihat rata - rata korelasi antar numerical columns berada di angka 0.00\n",
        "* Ada 7 kolom yang berwarna hitam, menandakan korelasi kolom tersebut strong negative.\n",
        "* Ada 9 kolom yang berwarna sedikit terang menandakan korelasi kolom tersebut positive.\n",
        "* Korelasi kolom diagonal kiri atas ke kanan bawah menandakan itu adalah kolom yang sama, karena korelasi yang begitu tinggi alias strong positive."
      ],
      "metadata": {
        "id": "ZxdfUQrIUtBS"
      }
    },
    {
      "cell_type": "markdown",
      "source": [
        "##Categorical Unique"
      ],
      "metadata": {
        "id": "C5hxTRwc5kW8"
      }
    },
    {
      "cell_type": "code",
      "source": [
        "customer_churn[categorical_features].head()"
      ],
      "metadata": {
        "colab": {
          "base_uri": "https://localhost:8080/",
          "height": 206
        },
        "id": "jHdtEAwhAXhM",
        "outputId": "cc1ebcc1-62ca-416c-b091-9a12a18389a8"
      },
      "execution_count": 54,
      "outputs": [
        {
          "output_type": "execute_result",
          "data": {
            "text/plain": [
              "      Attrition_Flag Gender Education_Level Marital_Status Income_Category  \\\n",
              "0  Existing Customer      M     High School        Married     $60K - $80K   \n",
              "1  Existing Customer      F        Graduate         Single  Less than $40K   \n",
              "2  Existing Customer      M        Graduate        Married    $80K - $120K   \n",
              "3  Existing Customer      F     High School        Unknown  Less than $40K   \n",
              "4  Existing Customer      M      Uneducated        Married     $60K - $80K   \n",
              "\n",
              "  Card_Category  \n",
              "0          Blue  \n",
              "1          Blue  \n",
              "2          Blue  \n",
              "3          Blue  \n",
              "4          Blue  "
            ],
            "text/html": [
              "\n",
              "  <div id=\"df-5fd1171b-63de-4908-8eb6-83f937505959\">\n",
              "    <div class=\"colab-df-container\">\n",
              "      <div>\n",
              "<style scoped>\n",
              "    .dataframe tbody tr th:only-of-type {\n",
              "        vertical-align: middle;\n",
              "    }\n",
              "\n",
              "    .dataframe tbody tr th {\n",
              "        vertical-align: top;\n",
              "    }\n",
              "\n",
              "    .dataframe thead th {\n",
              "        text-align: right;\n",
              "    }\n",
              "</style>\n",
              "<table border=\"1\" class=\"dataframe\">\n",
              "  <thead>\n",
              "    <tr style=\"text-align: right;\">\n",
              "      <th></th>\n",
              "      <th>Attrition_Flag</th>\n",
              "      <th>Gender</th>\n",
              "      <th>Education_Level</th>\n",
              "      <th>Marital_Status</th>\n",
              "      <th>Income_Category</th>\n",
              "      <th>Card_Category</th>\n",
              "    </tr>\n",
              "  </thead>\n",
              "  <tbody>\n",
              "    <tr>\n",
              "      <th>0</th>\n",
              "      <td>Existing Customer</td>\n",
              "      <td>M</td>\n",
              "      <td>High School</td>\n",
              "      <td>Married</td>\n",
              "      <td>$60K - $80K</td>\n",
              "      <td>Blue</td>\n",
              "    </tr>\n",
              "    <tr>\n",
              "      <th>1</th>\n",
              "      <td>Existing Customer</td>\n",
              "      <td>F</td>\n",
              "      <td>Graduate</td>\n",
              "      <td>Single</td>\n",
              "      <td>Less than $40K</td>\n",
              "      <td>Blue</td>\n",
              "    </tr>\n",
              "    <tr>\n",
              "      <th>2</th>\n",
              "      <td>Existing Customer</td>\n",
              "      <td>M</td>\n",
              "      <td>Graduate</td>\n",
              "      <td>Married</td>\n",
              "      <td>$80K - $120K</td>\n",
              "      <td>Blue</td>\n",
              "    </tr>\n",
              "    <tr>\n",
              "      <th>3</th>\n",
              "      <td>Existing Customer</td>\n",
              "      <td>F</td>\n",
              "      <td>High School</td>\n",
              "      <td>Unknown</td>\n",
              "      <td>Less than $40K</td>\n",
              "      <td>Blue</td>\n",
              "    </tr>\n",
              "    <tr>\n",
              "      <th>4</th>\n",
              "      <td>Existing Customer</td>\n",
              "      <td>M</td>\n",
              "      <td>Uneducated</td>\n",
              "      <td>Married</td>\n",
              "      <td>$60K - $80K</td>\n",
              "      <td>Blue</td>\n",
              "    </tr>\n",
              "  </tbody>\n",
              "</table>\n",
              "</div>\n",
              "      <button class=\"colab-df-convert\" onclick=\"convertToInteractive('df-5fd1171b-63de-4908-8eb6-83f937505959')\"\n",
              "              title=\"Convert this dataframe to an interactive table.\"\n",
              "              style=\"display:none;\">\n",
              "        \n",
              "  <svg xmlns=\"http://www.w3.org/2000/svg\" height=\"24px\"viewBox=\"0 0 24 24\"\n",
              "       width=\"24px\">\n",
              "    <path d=\"M0 0h24v24H0V0z\" fill=\"none\"/>\n",
              "    <path d=\"M18.56 5.44l.94 2.06.94-2.06 2.06-.94-2.06-.94-.94-2.06-.94 2.06-2.06.94zm-11 1L8.5 8.5l.94-2.06 2.06-.94-2.06-.94L8.5 2.5l-.94 2.06-2.06.94zm10 10l.94 2.06.94-2.06 2.06-.94-2.06-.94-.94-2.06-.94 2.06-2.06.94z\"/><path d=\"M17.41 7.96l-1.37-1.37c-.4-.4-.92-.59-1.43-.59-.52 0-1.04.2-1.43.59L10.3 9.45l-7.72 7.72c-.78.78-.78 2.05 0 2.83L4 21.41c.39.39.9.59 1.41.59.51 0 1.02-.2 1.41-.59l7.78-7.78 2.81-2.81c.8-.78.8-2.07 0-2.86zM5.41 20L4 18.59l7.72-7.72 1.47 1.35L5.41 20z\"/>\n",
              "  </svg>\n",
              "      </button>\n",
              "      \n",
              "  <style>\n",
              "    .colab-df-container {\n",
              "      display:flex;\n",
              "      flex-wrap:wrap;\n",
              "      gap: 12px;\n",
              "    }\n",
              "\n",
              "    .colab-df-convert {\n",
              "      background-color: #E8F0FE;\n",
              "      border: none;\n",
              "      border-radius: 50%;\n",
              "      cursor: pointer;\n",
              "      display: none;\n",
              "      fill: #1967D2;\n",
              "      height: 32px;\n",
              "      padding: 0 0 0 0;\n",
              "      width: 32px;\n",
              "    }\n",
              "\n",
              "    .colab-df-convert:hover {\n",
              "      background-color: #E2EBFA;\n",
              "      box-shadow: 0px 1px 2px rgba(60, 64, 67, 0.3), 0px 1px 3px 1px rgba(60, 64, 67, 0.15);\n",
              "      fill: #174EA6;\n",
              "    }\n",
              "\n",
              "    [theme=dark] .colab-df-convert {\n",
              "      background-color: #3B4455;\n",
              "      fill: #D2E3FC;\n",
              "    }\n",
              "\n",
              "    [theme=dark] .colab-df-convert:hover {\n",
              "      background-color: #434B5C;\n",
              "      box-shadow: 0px 1px 3px 1px rgba(0, 0, 0, 0.15);\n",
              "      filter: drop-shadow(0px 1px 2px rgba(0, 0, 0, 0.3));\n",
              "      fill: #FFFFFF;\n",
              "    }\n",
              "  </style>\n",
              "\n",
              "      <script>\n",
              "        const buttonEl =\n",
              "          document.querySelector('#df-5fd1171b-63de-4908-8eb6-83f937505959 button.colab-df-convert');\n",
              "        buttonEl.style.display =\n",
              "          google.colab.kernel.accessAllowed ? 'block' : 'none';\n",
              "\n",
              "        async function convertToInteractive(key) {\n",
              "          const element = document.querySelector('#df-5fd1171b-63de-4908-8eb6-83f937505959');\n",
              "          const dataTable =\n",
              "            await google.colab.kernel.invokeFunction('convertToInteractive',\n",
              "                                                     [key], {});\n",
              "          if (!dataTable) return;\n",
              "\n",
              "          const docLinkHtml = 'Like what you see? Visit the ' +\n",
              "            '<a target=\"_blank\" href=https://colab.research.google.com/notebooks/data_table.ipynb>data table notebook</a>'\n",
              "            + ' to learn more about interactive tables.';\n",
              "          element.innerHTML = '';\n",
              "          dataTable['output_type'] = 'display_data';\n",
              "          await google.colab.output.renderOutput(dataTable, element);\n",
              "          const docLink = document.createElement('div');\n",
              "          docLink.innerHTML = docLinkHtml;\n",
              "          element.appendChild(docLink);\n",
              "        }\n",
              "      </script>\n",
              "    </div>\n",
              "  </div>\n",
              "  "
            ]
          },
          "metadata": {},
          "execution_count": 54
        }
      ]
    },
    {
      "cell_type": "code",
      "source": [
        "customer_churn[categorical_features].nunique()"
      ],
      "metadata": {
        "colab": {
          "base_uri": "https://localhost:8080/"
        },
        "id": "GxLpxgQRAoCI",
        "outputId": "4a29afd8-d47c-4c07-e1ac-69c265c014fa"
      },
      "execution_count": 55,
      "outputs": [
        {
          "output_type": "execute_result",
          "data": {
            "text/plain": [
              "Attrition_Flag     2\n",
              "Gender             2\n",
              "Education_Level    7\n",
              "Marital_Status     4\n",
              "Income_Category    6\n",
              "Card_Category      4\n",
              "dtype: int64"
            ]
          },
          "metadata": {},
          "execution_count": 55
        }
      ]
    },
    {
      "cell_type": "code",
      "source": [
        "for feature in categorical_features:\n",
        "    print(customer_churn[feature].value_counts())\n",
        "    print ('------')"
      ],
      "metadata": {
        "colab": {
          "base_uri": "https://localhost:8080/"
        },
        "id": "fdWYz8juAvol",
        "outputId": "c3631bae-4faf-4f2c-8436-e8e65482564a"
      },
      "execution_count": 56,
      "outputs": [
        {
          "output_type": "stream",
          "name": "stdout",
          "text": [
            "Existing Customer    8500\n",
            "Attrited Customer    1627\n",
            "Name: Attrition_Flag, dtype: int64\n",
            "------\n",
            "F    5358\n",
            "M    4769\n",
            "Name: Gender, dtype: int64\n",
            "------\n",
            "Graduate         3128\n",
            "High School      2013\n",
            "Unknown          1519\n",
            "Uneducated       1487\n",
            "College          1013\n",
            "Post-Graduate     516\n",
            "Doctorate         451\n",
            "Name: Education_Level, dtype: int64\n",
            "------\n",
            "Married     4687\n",
            "Single      3943\n",
            "Unknown      749\n",
            "Divorced     748\n",
            "Name: Marital_Status, dtype: int64\n",
            "------\n",
            "Less than $40K    3561\n",
            "$40K - $60K       1790\n",
            "$80K - $120K      1535\n",
            "$60K - $80K       1402\n",
            "Unknown           1112\n",
            "$120K +            727\n",
            "Name: Income_Category, dtype: int64\n",
            "------\n",
            "Blue        9436\n",
            "Silver       555\n",
            "Gold         116\n",
            "Platinum      20\n",
            "Name: Card_Category, dtype: int64\n",
            "------\n"
          ]
        }
      ]
    },
    {
      "cell_type": "markdown",
      "source": [
        "##Visualization"
      ],
      "metadata": {
        "id": "-LwxxhNz9Egf"
      }
    },
    {
      "cell_type": "markdown",
      "source": [
        "###Customer Age"
      ],
      "metadata": {
        "id": "MlbQaPJZ5skg"
      }
    },
    {
      "cell_type": "code",
      "source": [
        "customer_churn.hist('Customer_Age', bins=10, grid=False, figsize=(12,8))"
      ],
      "metadata": {
        "colab": {
          "base_uri": "https://localhost:8080/",
          "height": 534
        },
        "id": "z2JnQ70ngzHs",
        "outputId": "68d6834c-a750-4245-d362-1c1162dcdc86"
      },
      "execution_count": 57,
      "outputs": [
        {
          "output_type": "execute_result",
          "data": {
            "text/plain": [
              "array([[<matplotlib.axes._subplots.AxesSubplot object at 0x7f2d9d5b1f10>]],\n",
              "      dtype=object)"
            ]
          },
          "metadata": {},
          "execution_count": 57
        },
        {
          "output_type": "display_data",
          "data": {
            "text/plain": [
              "<Figure size 864x576 with 1 Axes>"
            ],
            "image/png": "[encoded data removed]"
          },
          "metadata": {
            "needs_background": "light"
          }
        }
      ]
    },
    {
      "cell_type": "markdown",
      "source": [
        "> **Insights:** \n",
        "\n",
        "* Untuk kolom Customer_Age, visualisasi histogram di atas menandakan distribusi normal.\n",
        "* Range umur terbanyak yang memiliki akun bank, yaitu 44-49 tahun."
      ],
      "metadata": {
        "id": "npjKDB-2VoQ3"
      }
    },
    {
      "cell_type": "code",
      "source": [
        "cust_age = customer_churn.Customer_Age.value_counts().index\n",
        "\n",
        "plt.figure(figsize=(21, 8))\n",
        "sns.countplot(\n",
        "    x=\"Customer_Age\",\n",
        "    data=customer_churn,\n",
        "    order=cust_age,\n",
        "    palette=[\"#9900F0\"] + (len(cust_age)-1)*[\"#EBD8C3\"]\n",
        ")\n",
        "plt.grid(False)\n",
        "plt.show()"
      ],
      "metadata": {
        "id": "Tdh4GnYgA-ns",
        "colab": {
          "base_uri": "https://localhost:8080/",
          "height": 386
        },
        "outputId": "cfc252fe-d499-45bc-91da-fc8da82b3e30"
      },
      "execution_count": 58,
      "outputs": [
        {
          "output_type": "display_data",
          "data": {
            "text/plain": [
              "<Figure size 1512x576 with 1 Axes>"
            ],
            "image/png": "[encoded data removed]"
          },
          "metadata": {
            "needs_background": "light"
          }
        }
      ]
    },
    {
      "cell_type": "markdown",
      "source": [
        "Untuk lebih detailnya dari kesimpulan histogram tadi, dapat dilihat pada gambar di atas. Nilai terbanyak pada umur 44 tahun dengan jumlah sekitar 500 orang, dan range umur 67-73 tahun memiliki angka yang relatif lebih sedikit dengan kisaran antara 1-50 orang."
      ],
      "metadata": {
        "id": "WN9ZDNcRWHxE"
      }
    },
    {
      "cell_type": "markdown",
      "source": [
        "###Income Category"
      ],
      "metadata": {
        "id": "tarVIM6O50OP"
      }
    },
    {
      "cell_type": "code",
      "source": [
        "cust_income = customer_churn.Income_Category.value_counts().index\n",
        "\n",
        "plt.figure(figsize=(15, 8))\n",
        "sns.countplot(\n",
        "    x=\"Income_Category\",\n",
        "    data=customer_churn,\n",
        "    order=cust_income,\n",
        "    palette=[\"#9900F0\"] + (len(cust_income)-1)*[\"#EBD8C3\"]\n",
        ")\n",
        "plt.grid(False)\n",
        "plt.show()"
      ],
      "metadata": {
        "colab": {
          "base_uri": "https://localhost:8080/",
          "height": 500
        },
        "id": "OFNauQWg5-iJ",
        "outputId": "7e09fc36-21ec-401c-a0e3-691647fc768e"
      },
      "execution_count": 59,
      "outputs": [
        {
          "output_type": "display_data",
          "data": {
            "text/plain": [
              "<Figure size 1080x576 with 1 Axes>"
            ],
            "image/png": "[encoded data removed]"
          },
          "metadata": {
            "needs_background": "light"
          }
        }
      ]
    },
    {
      "cell_type": "markdown",
      "source": [
        "> **Insights:** \n",
        "\n",
        "* Untuk melihat customers yang berhenti menjadi nasabah bank, bisa dilihat dari salary (income/pemasukkan) yang diterima oleh para customers, status pernikahan, jumlah tanggungan, tingkat pendidikan, dan jenis kelamin.\n",
        "* Pada plot pemasukan para customers, paling banyak memiliki income kurang dari 40 ribu dollar, sejumlah sekitar 3500 orang.\n",
        "* Bisa diyakini, kemungkinan besar customers yang berhenti pun yang memiliki pemasukan tersebut."
      ],
      "metadata": {
        "id": "GOYb8GICWpm9"
      }
    },
    {
      "cell_type": "markdown",
      "source": [
        "###Attrition Flag"
      ],
      "metadata": {
        "id": "lrDIafwT6keL"
      }
    },
    {
      "cell_type": "code",
      "source": [
        "cust_flag = customer_churn.Attrition_Flag.value_counts().index\n",
        "\n",
        "plt.figure(figsize=(15, 8))\n",
        "sns.countplot(\n",
        "    x=\"Attrition_Flag\",\n",
        "    data=customer_churn,\n",
        "    order=cust_flag,\n",
        "    palette=[\"#9900F0\"] + (len(cust_flag)-1)*[\"#EBD8C3\"]\n",
        ")\n",
        "plt.grid(False)\n",
        "plt.show()"
      ],
      "metadata": {
        "colab": {
          "base_uri": "https://localhost:8080/",
          "height": 498
        },
        "id": "_hS6a3RP6rOu",
        "outputId": "9217e233-414d-4047-ecf7-8cb61a1f693f"
      },
      "execution_count": 60,
      "outputs": [
        {
          "output_type": "display_data",
          "data": {
            "text/plain": [
              "<Figure size 1080x576 with 1 Axes>"
            ],
            "image/png": "[encoded data removed]"
          },
          "metadata": {
            "needs_background": "light"
          }
        }
      ]
    },
    {
      "cell_type": "markdown",
      "source": [
        "> **Insights:** \n",
        "\n",
        "* Jumlah existis customers atau customers aktif adalah sekitar 8500 orang dan attrited customers atau customers yang berhenti adalah hampir 2000 orang. Angka yang cukup lumayan untuk kehilangan customers dari jumlah customers aktif yang ada."
      ],
      "metadata": {
        "id": "FTp90myNXYax"
      }
    },
    {
      "cell_type": "markdown",
      "source": [
        "####Income terhadap attrition flag"
      ],
      "metadata": {
        "id": "HveCiJMD7Mtl"
      }
    },
    {
      "cell_type": "code",
      "source": [
        "plt.figure(figsize=(20, 8))\n",
        "sns.countplot(\n",
        "    x=\"Income_Category\",\n",
        "    data=customer_churn,\n",
        "    hue=\"Attrition_Flag\",\n",
        "    order=sorted(customer_churn.Income_Category.unique()),\n",
        "    palette=[\"#9900F0\"] + [\"#EBD8C3\"]\n",
        ")\n",
        "plt.grid(False)\n",
        "plt.show()"
      ],
      "metadata": {
        "colab": {
          "base_uri": "https://localhost:8080/",
          "height": 403
        },
        "id": "sgUMTIxN7QkS",
        "outputId": "447279ad-d46e-481a-b3c2-8fb23e28fb76"
      },
      "execution_count": 61,
      "outputs": [
        {
          "output_type": "display_data",
          "data": {
            "text/plain": [
              "<Figure size 1440x576 with 1 Axes>"
            ],
            "image/png": "[encoded data removed]"
          },
          "metadata": {
            "needs_background": "light"
          }
        }
      ]
    },
    {
      "cell_type": "markdown",
      "source": [
        "> **Insights:** \n",
        "\n",
        "* Dibuktikan dengan plot di atas, bahwa customers yang berhenti paling banyak yang memiliki income kurang dari 4 ribu dollar."
      ],
      "metadata": {
        "id": "IMVrMnpuX1eW"
      }
    },
    {
      "cell_type": "markdown",
      "source": [
        "###Marital Status"
      ],
      "metadata": {
        "id": "jsf1tvDP8fSi"
      }
    },
    {
      "cell_type": "code",
      "source": [
        "cust_ms = customer_churn.Marital_Status.value_counts().index\n",
        "\n",
        "plt.figure(figsize=(15, 8))\n",
        "sns.countplot(\n",
        "    x=\"Marital_Status\",\n",
        "    data=customer_churn,\n",
        "    order=cust_ms,\n",
        "    palette=[\"#9900F0\"] + (len(cust_ms)-1)*[\"#EBD8C3\"]\n",
        ")\n",
        "plt.grid(False)\n",
        "plt.show()"
      ],
      "metadata": {
        "colab": {
          "base_uri": "https://localhost:8080/",
          "height": 498
        },
        "id": "wAv5exon8jqB",
        "outputId": "f2b76240-b337-4d40-dcee-aa1653309634"
      },
      "execution_count": 62,
      "outputs": [
        {
          "output_type": "display_data",
          "data": {
            "text/plain": [
              "<Figure size 1080x576 with 1 Axes>"
            ],
            "image/png": "[encoded data removed]"
          },
          "metadata": {
            "needs_background": "light"
          }
        }
      ]
    },
    {
      "cell_type": "markdown",
      "source": [
        "> **Insights:** \n",
        "\n",
        "* Sekitar 5000 customers adalah orang yang sudah menikah."
      ],
      "metadata": {
        "id": "CQcUG9pcYLLn"
      }
    },
    {
      "cell_type": "markdown",
      "source": [
        "####Income terhadap marital status"
      ],
      "metadata": {
        "id": "GRvG3vzC3KVZ"
      }
    },
    {
      "cell_type": "code",
      "source": [
        "plt.figure(figsize=(20, 8))\n",
        "sns.countplot(\n",
        "    x=\"Income_Category\",\n",
        "    data=customer_churn,\n",
        "    hue=\"Marital_Status\",\n",
        "    order=sorted(customer_churn.Income_Category.unique()),\n",
        "    palette=[\"#9900F0\"] + [\"#EBD8C3\"] + [\"#CE9461\"] + [\"#4B7BE5\"]\n",
        ")\n",
        "plt.grid(False)\n",
        "plt.show()"
      ],
      "metadata": {
        "id": "UyqR_6UxxgHi",
        "colab": {
          "base_uri": "https://localhost:8080/",
          "height": 403
        },
        "outputId": "d3514110-043e-4cdb-92f6-bfd336613292"
      },
      "execution_count": 63,
      "outputs": [
        {
          "output_type": "display_data",
          "data": {
            "text/plain": [
              "<Figure size 1440x576 with 1 Axes>"
            ],
            "image/png": "[encoded data removed]"
          },
          "metadata": {
            "needs_background": "light"
          }
        }
      ]
    },
    {
      "cell_type": "markdown",
      "source": [
        "> **Insights:** \n",
        "\n",
        "* Cukup jelas perbedaannya dari pemilik income kurang dari 40 ribu dollar yang menikah dan single. Dua kategori tersebut mendominasi jumlah customers."
      ],
      "metadata": {
        "id": "PtPPrY-NYf85"
      }
    },
    {
      "cell_type": "markdown",
      "source": [
        "###Dependent Counts"
      ],
      "metadata": {
        "id": "fwVmxNUL7FEu"
      }
    },
    {
      "cell_type": "code",
      "source": [
        "cust_dc = customer_churn.Dependent_count.value_counts().index\n",
        "\n",
        "plt.figure(figsize=(15, 8))\n",
        "sns.countplot(\n",
        "    x=\"Dependent_count\",\n",
        "    data=customer_churn,\n",
        "    order=cust_dc,\n",
        "    palette=[\"#9900F0\"] + (len(cust_dc)-1)*[\"#EBD8C3\"]\n",
        ")\n",
        "plt.grid(False)\n",
        "plt.show()"
      ],
      "metadata": {
        "colab": {
          "base_uri": "https://localhost:8080/",
          "height": 498
        },
        "id": "3_li99eL7grZ",
        "outputId": "33bd906e-fc4a-4bda-93b1-0c77afc9a8da"
      },
      "execution_count": 64,
      "outputs": [
        {
          "output_type": "display_data",
          "data": {
            "text/plain": [
              "<Figure size 1080x576 with 1 Axes>"
            ],
            "image/png": "[encoded data removed]"
          },
          "metadata": {
            "needs_background": "light"
          }
        }
      ]
    },
    {
      "cell_type": "markdown",
      "source": [
        "> **Insights:** \n",
        "\n",
        "* Bagi customers yang memiliki tanggungan, paling banyak memiliki 3 tanggungan dengan jumlah hampir 3000 customers."
      ],
      "metadata": {
        "id": "V42GbH6xZOeI"
      }
    },
    {
      "cell_type": "markdown",
      "source": [
        "####Income terhadap dependent count"
      ],
      "metadata": {
        "id": "egtzSDFx7821"
      }
    },
    {
      "cell_type": "code",
      "source": [
        "plt.figure(figsize=(20, 8))\n",
        "sns.countplot(\n",
        "    x=\"Income_Category\",\n",
        "    data=customer_churn,\n",
        "    hue=\"Dependent_count\",\n",
        "    order=sorted(customer_churn.Income_Category.unique()),\n",
        "    palette=[\"#9900F0\"] + [\"#EBD8C3\"] + [\"#CE9461\"] + [\"#4B7BE5\"] + [\"#4E944F\"] + [\"#B6FFCE\"]\n",
        ")\n",
        "plt.grid(False)\n",
        "plt.show()"
      ],
      "metadata": {
        "colab": {
          "base_uri": "https://localhost:8080/",
          "height": 405
        },
        "id": "tVyFdVD97_gW",
        "outputId": "6c232dff-ea3f-43cb-8610-52030b3c2752"
      },
      "execution_count": 65,
      "outputs": [
        {
          "output_type": "display_data",
          "data": {
            "text/plain": [
              "<Figure size 1440x576 with 1 Axes>"
            ],
            "image/png": "[encoded data removed]"
          },
          "metadata": {
            "needs_background": "light"
          }
        }
      ]
    },
    {
      "cell_type": "markdown",
      "source": [
        "> **Insights:** \n",
        "\n",
        "* Terlihat, ternyata pada customers dengan pemasukkan kurang dari 40 ribu dollar, paling banyak memiliki 2 tanggungan disusul dengan yang memiliki 3 tanggungan. Angka yang tipis."
      ],
      "metadata": {
        "id": "QTP5fe9oZcFZ"
      }
    },
    {
      "cell_type": "markdown",
      "source": [
        "###Educational Level"
      ],
      "metadata": {
        "id": "XO9J9Zpe8yA7"
      }
    },
    {
      "cell_type": "code",
      "source": [
        "cust_el = customer_churn.Education_Level.value_counts().index\n",
        "\n",
        "plt.figure(figsize=(15, 8))\n",
        "sns.countplot(\n",
        "    x=\"Education_Level\",\n",
        "    data=customer_churn,\n",
        "    order=cust_el,\n",
        "    palette=[\"#9900F0\"] + (len(cust_el)-1)*[\"#EBD8C3\"]\n",
        ")\n",
        "plt.grid(False)\n",
        "plt.show()"
      ],
      "metadata": {
        "colab": {
          "base_uri": "https://localhost:8080/",
          "height": 498
        },
        "id": "i-grBZS_81vb",
        "outputId": "5e7ab7bd-86e7-4396-e6db-55b5fb3d1ea0"
      },
      "execution_count": 66,
      "outputs": [
        {
          "output_type": "display_data",
          "data": {
            "text/plain": [
              "<Figure size 1080x576 with 1 Axes>"
            ],
            "image/png": "[encoded data removed]"
          },
          "metadata": {
            "needs_background": "light"
          }
        }
      ]
    },
    {
      "cell_type": "markdown",
      "source": [
        "> **Insights:** \n",
        "\n",
        "* Customers yang sudah lulus kuliah setara S1 yang paling banyak memiliki akun bank."
      ],
      "metadata": {
        "id": "HJLqqIGVaiEY"
      }
    },
    {
      "cell_type": "markdown",
      "source": [
        "####Income terhadap educational level"
      ],
      "metadata": {
        "id": "3eU7gM9952P1"
      }
    },
    {
      "cell_type": "code",
      "source": [
        "plt.figure(figsize=(20, 8))\n",
        "sns.countplot(\n",
        "    x=\"Income_Category\",\n",
        "    data=customer_churn,\n",
        "    hue=\"Education_Level\",\n",
        "    order=sorted(customer_churn.Income_Category.unique()),\n",
        "    palette=[\"#9900F0\"] + [\"#EBD8C3\"] + [\"#CE9461\"] + [\"#4B7BE5\"] + [\"#4E944F\"] + [\"#B6FFCE\"] + [\"#F24A72\"]\n",
        ")\n",
        "plt.grid(False)\n",
        "plt.show()"
      ],
      "metadata": {
        "colab": {
          "base_uri": "https://localhost:8080/",
          "height": 403
        },
        "id": "Bz0VlM4V2ujL",
        "outputId": "25f3c85c-3ebb-4aae-c757-5eb9a104a2f9"
      },
      "execution_count": 67,
      "outputs": [
        {
          "output_type": "display_data",
          "data": {
            "text/plain": [
              "<Figure size 1440x576 with 1 Axes>"
            ],
            "image/png": "[encoded data removed]"
          },
          "metadata": {
            "needs_background": "light"
          }
        }
      ]
    },
    {
      "cell_type": "markdown",
      "source": [
        "> **Insights:** \n",
        "\n",
        "* Tentunya para customers yang lulusan setara S1 tersebut yang memiliki income kurang dari 40 ribu dollar. Jumlahnya paling banyak daripada kategori yang lain. Sama dengan jumlah pemasukkan yang lain, graduate customers mendominasi."
      ],
      "metadata": {
        "id": "PVdX0GKkarQ3"
      }
    },
    {
      "cell_type": "markdown",
      "source": [
        "###Gender"
      ],
      "metadata": {
        "id": "afntUtHd8-Pd"
      }
    },
    {
      "cell_type": "code",
      "source": [
        "cust_gender = customer_churn.Gender.value_counts().index\n",
        "\n",
        "plt.figure(figsize=(15, 8))\n",
        "sns.countplot(\n",
        "    x=\"Gender\",\n",
        "    data=customer_churn,\n",
        "    order=cust_gender,\n",
        "    palette=[\"#9900F0\"] + (len(cust_gender)-1)*[\"#EBD8C3\"]\n",
        ")\n",
        "plt.grid(False)\n",
        "plt.show()"
      ],
      "metadata": {
        "colab": {
          "base_uri": "https://localhost:8080/",
          "height": 497
        },
        "id": "rW1fumAt3CZJ",
        "outputId": "b946211f-1ec5-4437-e71e-e8ab583d43f3"
      },
      "execution_count": 68,
      "outputs": [
        {
          "output_type": "display_data",
          "data": {
            "text/plain": [
              "<Figure size 1080x576 with 1 Axes>"
            ],
            "image/png": "[encoded data removed]"
          },
          "metadata": {
            "needs_background": "light"
          }
        }
      ]
    },
    {
      "cell_type": "markdown",
      "source": [
        "> **Insights:** \n",
        "\n",
        "* Untuk jenis kelamin, hampir sama banyak antara male dan female, namun male lebih banyak."
      ],
      "metadata": {
        "id": "68PJio2jbAgk"
      }
    },
    {
      "cell_type": "markdown",
      "source": [
        "####Income terhadap gender\n"
      ],
      "metadata": {
        "id": "PVcTgS4t55iI"
      }
    },
    {
      "cell_type": "code",
      "source": [
        "plt.figure(figsize=(25, 8))\n",
        "sns.countplot(\n",
        "    x=\"Income_Category\",\n",
        "    data=customer_churn,\n",
        "    hue=\"Gender\",\n",
        "    order=sorted(customer_churn.Income_Category.unique()),\n",
        "    palette=[\"#9900F0\"] + [\"#EBD8C3\"]\n",
        ")\n",
        "plt.grid(False)\n",
        "plt.show()"
      ],
      "metadata": {
        "colab": {
          "base_uri": "https://localhost:8080/",
          "height": 329
        },
        "id": "y9cSi2F_9YUs",
        "outputId": "90f5acae-947b-4752-e48e-7e42f03cb3bc"
      },
      "execution_count": 69,
      "outputs": [
        {
          "output_type": "display_data",
          "data": {
            "text/plain": [
              "<Figure size 1800x576 with 1 Axes>"
            ],
            "image/png": "[encoded data removed]"
          },
          "metadata": {
            "needs_background": "light"
          }
        }
      ]
    },
    {
      "cell_type": "markdown",
      "source": [
        "> **Insights:** \n",
        "\n",
        "* Ternyata, walaupun jumlah male terbanyak, yang memiliki pemasukkan kurang dari 40 ribu dollar adalah female. Jadi, kemungkinan besar customers yang berhenti berjenis kelamin female (perempuan)."
      ],
      "metadata": {
        "id": "SjMdqsQcb7uI"
      }
    },
    {
      "cell_type": "markdown",
      "source": [
        "###Card Category"
      ],
      "metadata": {
        "id": "kvAv70XFIIMy"
      }
    },
    {
      "cell_type": "code",
      "source": [
        "cust_card = customer_churn.Card_Category.value_counts().index\n",
        "\n",
        "plt.figure(figsize=(15, 8))\n",
        "sns.countplot(\n",
        "    x=\"Card_Category\",\n",
        "    data=customer_churn,\n",
        "    order=cust_card,\n",
        "    palette=[\"#9900F0\"] + (len(cust_card)-1)*[\"#EBD8C3\"]\n",
        ")\n",
        "plt.grid(False)\n",
        "plt.show()"
      ],
      "metadata": {
        "colab": {
          "base_uri": "https://localhost:8080/",
          "height": 498
        },
        "id": "RL1ftU4ZIUcU",
        "outputId": "874127b7-e751-4639-aa2e-cb54f34020f0"
      },
      "execution_count": 70,
      "outputs": [
        {
          "output_type": "display_data",
          "data": {
            "text/plain": [
              "<Figure size 1080x576 with 1 Axes>"
            ],
            "image/png": "[encoded data removed]"
          },
          "metadata": {
            "needs_background": "light"
          }
        }
      ]
    },
    {
      "cell_type": "markdown",
      "source": [
        "> **Insights:** \n",
        "\n",
        "* Mayoritas kartu bank yang dimiliki customers adalah Blue Card.\n",
        "* Hanya sedikit sekali customers yang memiliki Platinum Card"
      ],
      "metadata": {
        "id": "rHlDceXkJGHO"
      }
    },
    {
      "cell_type": "markdown",
      "source": [
        "####Income terhadap card category"
      ],
      "metadata": {
        "id": "QtPheFbPINGe"
      }
    },
    {
      "cell_type": "code",
      "source": [
        "plt.figure(figsize=(15, 8))\n",
        "sns.countplot(\n",
        "    x=\"Income_Category\",\n",
        "    data=customer_churn,\n",
        "    hue=\"Card_Category\",\n",
        "    order=sorted(customer_churn.Income_Category.unique()),\n",
        "    palette=[\"#9900F0\"] + [\"#EBD8C3\"] + [\"#CE9461\"] + [\"#4B7BE5\"]\n",
        ")\n",
        "plt.grid(False)\n",
        "plt.show()"
      ],
      "metadata": {
        "colab": {
          "base_uri": "https://localhost:8080/",
          "height": 500
        },
        "id": "ZIne1PwJIqYt",
        "outputId": "0995fdcb-28c4-43fb-fbe3-789edeae4271"
      },
      "execution_count": 71,
      "outputs": [
        {
          "output_type": "display_data",
          "data": {
            "text/plain": [
              "<Figure size 1080x576 with 1 Axes>"
            ],
            "image/png": "[encoded data removed]"
          },
          "metadata": {
            "needs_background": "light"
          }
        }
      ]
    },
    {
      "cell_type": "markdown",
      "source": [
        "> **Insights:** \n",
        "\n",
        "* Pemilik Blue Card terbanyak adalah customers yang bergaji kurang dari 40 ribu dollar.\n",
        "* Dengan ini, customers yang memiliki pemasukkan kurang dari 40 ribu dollar bisa diberikan pelayanan khusus atau reward atau hal-hal lain agar customers tersebut mau bertahan menggunakan kartu bank yang dimilikinya.\n",
        "* Hal ini berarti, customers dengan income <$40k, menikah, memiliki tanggungan 2-3 orang, sudah lulus setingkat S1, wanita, dan pemilik blue card berkemungkinan besar berhenti menggunakan layanan bank."
      ],
      "metadata": {
        "id": "0QwE0XdLJaG6"
      }
    },
    {
      "cell_type": "markdown",
      "source": [
        "#Data Preparation"
      ],
      "metadata": {
        "id": "3_qWI-VNDduY"
      }
    },
    {
      "cell_type": "code",
      "execution_count": 72,
      "metadata": {
        "id": "06dd5e0a-60c1-4865-965b-bf86b1045a6d"
      },
      "outputs": [],
      "source": [
        "import numpy as np\n",
        "import pandas as pd\n",
        "import matplotlib.pyplot as plt\n",
        "from matplotlib import style\n",
        "import tensorflow as tf\n",
        "from sklearn.model_selection import train_test_split, cross_val_score\n",
        "from xgboost import XGBClassifier\n",
        "from sklearn.preprocessing import LabelEncoder, MinMaxScaler\n",
        "from collections import Counter\n",
        "from imblearn.over_sampling import SMOTE\n",
        "from sklearn.metrics import roc_auc_score"
      ]
    },
    {
      "cell_type": "code",
      "execution_count": 73,
      "metadata": {
        "id": "c550c4bf-de59-40ae-b70f-b1611aeb039e"
      },
      "outputs": [],
      "source": [
        "sdss_df = pd.read_csv('/content/RGFile/BankChurners.csv', skiprows=0)"
      ]
    },
    {
      "cell_type": "code",
      "execution_count": 74,
      "metadata": {
        "id": "fd36eab2-6d8e-48ee-95bf-c1b96be647f6",
        "outputId": "22a660b2-5d84-4cba-d979-571da7673817",
        "colab": {
          "base_uri": "https://localhost:8080/",
          "height": 386
        }
      },
      "outputs": [
        {
          "output_type": "execute_result",
          "data": {
            "text/plain": [
              "   CLIENTNUM     Attrition_Flag  Customer_Age Gender  Dependent_count  \\\n",
              "0  768805383  Existing Customer            45      M                3   \n",
              "1  818770008  Existing Customer            49      F                5   \n",
              "2  713982108  Existing Customer            51      M                3   \n",
              "3  769911858  Existing Customer            40      F                4   \n",
              "4  709106358  Existing Customer            40      M                3   \n",
              "\n",
              "  Education_Level Marital_Status Income_Category Card_Category  \\\n",
              "0     High School        Married     $60K - $80K          Blue   \n",
              "1        Graduate         Single  Less than $40K          Blue   \n",
              "2        Graduate        Married    $80K - $120K          Blue   \n",
              "3     High School        Unknown  Less than $40K          Blue   \n",
              "4      Uneducated        Married     $60K - $80K          Blue   \n",
              "\n",
              "   Months_on_book  ...  Credit_Limit  Total_Revolving_Bal  Avg_Open_To_Buy  \\\n",
              "0              39  ...       12691.0                  777          11914.0   \n",
              "1              44  ...        8256.0                  864           7392.0   \n",
              "2              36  ...        3418.0                    0           3418.0   \n",
              "3              34  ...        3313.0                 2517            796.0   \n",
              "4              21  ...        4716.0                    0           4716.0   \n",
              "\n",
              "   Total_Amt_Chng_Q4_Q1  Total_Trans_Amt  Total_Trans_Ct  Total_Ct_Chng_Q4_Q1  \\\n",
              "0                 1.335             1144              42                1.625   \n",
              "1                 1.541             1291              33                3.714   \n",
              "2                 2.594             1887              20                2.333   \n",
              "3                 1.405             1171              20                2.333   \n",
              "4                 2.175              816              28                2.500   \n",
              "\n",
              "   Avg_Utilization_Ratio  \\\n",
              "0                  0.061   \n",
              "1                  0.105   \n",
              "2                  0.000   \n",
              "3                  0.760   \n",
              "4                  0.000   \n",
              "\n",
              "   Naive_Bayes_Classifier_Attrition_Flag_Card_Category_Contacts_Count_12_mon_Dependent_count_Education_Level_Months_Inactive_12_mon_1  \\\n",
              "0                                           0.000093                                                                                    \n",
              "1                                           0.000057                                                                                    \n",
              "2                                           0.000021                                                                                    \n",
              "3                                           0.000134                                                                                    \n",
              "4                                           0.000022                                                                                    \n",
              "\n",
              "   Naive_Bayes_Classifier_Attrition_Flag_Card_Category_Contacts_Count_12_mon_Dependent_count_Education_Level_Months_Inactive_12_mon_2  \n",
              "0                                            0.99991                                                                                   \n",
              "1                                            0.99994                                                                                   \n",
              "2                                            0.99998                                                                                   \n",
              "3                                            0.99987                                                                                   \n",
              "4                                            0.99998                                                                                   \n",
              "\n",
              "[5 rows x 23 columns]"
            ],
            "text/html": [
              "\n",
              "  <div id=\"df-86406915-508c-45b8-b665-4417b80cb8ba\">\n",
              "    <div class=\"colab-df-container\">\n",
              "      <div>\n",
              "<style scoped>\n",
              "    .dataframe tbody tr th:only-of-type {\n",
              "        vertical-align: middle;\n",
              "    }\n",
              "\n",
              "    .dataframe tbody tr th {\n",
              "        vertical-align: top;\n",
              "    }\n",
              "\n",
              "    .dataframe thead th {\n",
              "        text-align: right;\n",
              "    }\n",
              "</style>\n",
              "<table border=\"1\" class=\"dataframe\">\n",
              "  <thead>\n",
              "    <tr style=\"text-align: right;\">\n",
              "      <th></th>\n",
              "      <th>CLIENTNUM</th>\n",
              "      <th>Attrition_Flag</th>\n",
              "      <th>Customer_Age</th>\n",
              "      <th>Gender</th>\n",
              "      <th>Dependent_count</th>\n",
              "      <th>Education_Level</th>\n",
              "      <th>Marital_Status</th>\n",
              "      <th>Income_Category</th>\n",
              "      <th>Card_Category</th>\n",
              "      <th>Months_on_book</th>\n",
              "      <th>...</th>\n",
              "      <th>Credit_Limit</th>\n",
              "      <th>Total_Revolving_Bal</th>\n",
              "      <th>Avg_Open_To_Buy</th>\n",
              "      <th>Total_Amt_Chng_Q4_Q1</th>\n",
              "      <th>Total_Trans_Amt</th>\n",
              "      <th>Total_Trans_Ct</th>\n",
              "      <th>Total_Ct_Chng_Q4_Q1</th>\n",
              "      <th>Avg_Utilization_Ratio</th>\n",
              "      <th>Naive_Bayes_Classifier_Attrition_Flag_Card_Category_Contacts_Count_12_mon_Dependent_count_Education_Level_Months_Inactive_12_mon_1</th>\n",
              "      <th>Naive_Bayes_Classifier_Attrition_Flag_Card_Category_Contacts_Count_12_mon_Dependent_count_Education_Level_Months_Inactive_12_mon_2</th>\n",
              "    </tr>\n",
              "  </thead>\n",
              "  <tbody>\n",
              "    <tr>\n",
              "      <th>0</th>\n",
              "      <td>768805383</td>\n",
              "      <td>Existing Customer</td>\n",
              "      <td>45</td>\n",
              "      <td>M</td>\n",
              "      <td>3</td>\n",
              "      <td>High School</td>\n",
              "      <td>Married</td>\n",
              "      <td>$60K - $80K</td>\n",
              "      <td>Blue</td>\n",
              "      <td>39</td>\n",
              "      <td>...</td>\n",
              "      <td>12691.0</td>\n",
              "      <td>777</td>\n",
              "      <td>11914.0</td>\n",
              "      <td>1.335</td>\n",
              "      <td>1144</td>\n",
              "      <td>42</td>\n",
              "      <td>1.625</td>\n",
              "      <td>0.061</td>\n",
              "      <td>0.000093</td>\n",
              "      <td>0.99991</td>\n",
              "    </tr>\n",
              "    <tr>\n",
              "      <th>1</th>\n",
              "      <td>818770008</td>\n",
              "      <td>Existing Customer</td>\n",
              "      <td>49</td>\n",
              "      <td>F</td>\n",
              "      <td>5</td>\n",
              "      <td>Graduate</td>\n",
              "      <td>Single</td>\n",
              "      <td>Less than $40K</td>\n",
              "      <td>Blue</td>\n",
              "      <td>44</td>\n",
              "      <td>...</td>\n",
              "      <td>8256.0</td>\n",
              "      <td>864</td>\n",
              "      <td>7392.0</td>\n",
              "      <td>1.541</td>\n",
              "      <td>1291</td>\n",
              "      <td>33</td>\n",
              "      <td>3.714</td>\n",
              "      <td>0.105</td>\n",
              "      <td>0.000057</td>\n",
              "      <td>0.99994</td>\n",
              "    </tr>\n",
              "    <tr>\n",
              "      <th>2</th>\n",
              "      <td>713982108</td>\n",
              "      <td>Existing Customer</td>\n",
              "      <td>51</td>\n",
              "      <td>M</td>\n",
              "      <td>3</td>\n",
              "      <td>Graduate</td>\n",
              "      <td>Married</td>\n",
              "      <td>$80K - $120K</td>\n",
              "      <td>Blue</td>\n",
              "      <td>36</td>\n",
              "      <td>...</td>\n",
              "      <td>3418.0</td>\n",
              "      <td>0</td>\n",
              "      <td>3418.0</td>\n",
              "      <td>2.594</td>\n",
              "      <td>1887</td>\n",
              "      <td>20</td>\n",
              "      <td>2.333</td>\n",
              "      <td>0.000</td>\n",
              "      <td>0.000021</td>\n",
              "      <td>0.99998</td>\n",
              "    </tr>\n",
              "    <tr>\n",
              "      <th>3</th>\n",
              "      <td>769911858</td>\n",
              "      <td>Existing Customer</td>\n",
              "      <td>40</td>\n",
              "      <td>F</td>\n",
              "      <td>4</td>\n",
              "      <td>High School</td>\n",
              "      <td>Unknown</td>\n",
              "      <td>Less than $40K</td>\n",
              "      <td>Blue</td>\n",
              "      <td>34</td>\n",
              "      <td>...</td>\n",
              "      <td>3313.0</td>\n",
              "      <td>2517</td>\n",
              "      <td>796.0</td>\n",
              "      <td>1.405</td>\n",
              "      <td>1171</td>\n",
              "      <td>20</td>\n",
              "      <td>2.333</td>\n",
              "      <td>0.760</td>\n",
              "      <td>0.000134</td>\n",
              "      <td>0.99987</td>\n",
              "    </tr>\n",
              "    <tr>\n",
              "      <th>4</th>\n",
              "      <td>709106358</td>\n",
              "      <td>Existing Customer</td>\n",
              "      <td>40</td>\n",
              "      <td>M</td>\n",
              "      <td>3</td>\n",
              "      <td>Uneducated</td>\n",
              "      <td>Married</td>\n",
              "      <td>$60K - $80K</td>\n",
              "      <td>Blue</td>\n",
              "      <td>21</td>\n",
              "      <td>...</td>\n",
              "      <td>4716.0</td>\n",
              "      <td>0</td>\n",
              "      <td>4716.0</td>\n",
              "      <td>2.175</td>\n",
              "      <td>816</td>\n",
              "      <td>28</td>\n",
              "      <td>2.500</td>\n",
              "      <td>0.000</td>\n",
              "      <td>0.000022</td>\n",
              "      <td>0.99998</td>\n",
              "    </tr>\n",
              "  </tbody>\n",
              "</table>\n",
              "<p>5 rows × 23 columns</p>\n",
              "</div>\n",
              "      <button class=\"colab-df-convert\" onclick=\"convertToInteractive('df-86406915-508c-45b8-b665-4417b80cb8ba')\"\n",
              "              title=\"Convert this dataframe to an interactive table.\"\n",
              "              style=\"display:none;\">\n",
              "        \n",
              "  <svg xmlns=\"http://www.w3.org/2000/svg\" height=\"24px\"viewBox=\"0 0 24 24\"\n",
              "       width=\"24px\">\n",
              "    <path d=\"M0 0h24v24H0V0z\" fill=\"none\"/>\n",
              "    <path d=\"M18.56 5.44l.94 2.06.94-2.06 2.06-.94-2.06-.94-.94-2.06-.94 2.06-2.06.94zm-11 1L8.5 8.5l.94-2.06 2.06-.94-2.06-.94L8.5 2.5l-.94 2.06-2.06.94zm10 10l.94 2.06.94-2.06 2.06-.94-2.06-.94-.94-2.06-.94 2.06-2.06.94z\"/><path d=\"M17.41 7.96l-1.37-1.37c-.4-.4-.92-.59-1.43-.59-.52 0-1.04.2-1.43.59L10.3 9.45l-7.72 7.72c-.78.78-.78 2.05 0 2.83L4 21.41c.39.39.9.59 1.41.59.51 0 1.02-.2 1.41-.59l7.78-7.78 2.81-2.81c.8-.78.8-2.07 0-2.86zM5.41 20L4 18.59l7.72-7.72 1.47 1.35L5.41 20z\"/>\n",
              "  </svg>\n",
              "      </button>\n",
              "      \n",
              "  <style>\n",
              "    .colab-df-container {\n",
              "      display:flex;\n",
              "      flex-wrap:wrap;\n",
              "      gap: 12px;\n",
              "    }\n",
              "\n",
              "    .colab-df-convert {\n",
              "      background-color: #E8F0FE;\n",
              "      border: none;\n",
              "      border-radius: 50%;\n",
              "      cursor: pointer;\n",
              "      display: none;\n",
              "      fill: #1967D2;\n",
              "      height: 32px;\n",
              "      padding: 0 0 0 0;\n",
              "      width: 32px;\n",
              "    }\n",
              "\n",
              "    .colab-df-convert:hover {\n",
              "      background-color: #E2EBFA;\n",
              "      box-shadow: 0px 1px 2px rgba(60, 64, 67, 0.3), 0px 1px 3px 1px rgba(60, 64, 67, 0.15);\n",
              "      fill: #174EA6;\n",
              "    }\n",
              "\n",
              "    [theme=dark] .colab-df-convert {\n",
              "      background-color: #3B4455;\n",
              "      fill: #D2E3FC;\n",
              "    }\n",
              "\n",
              "    [theme=dark] .colab-df-convert:hover {\n",
              "      background-color: #434B5C;\n",
              "      box-shadow: 0px 1px 3px 1px rgba(0, 0, 0, 0.15);\n",
              "      filter: drop-shadow(0px 1px 2px rgba(0, 0, 0, 0.3));\n",
              "      fill: #FFFFFF;\n",
              "    }\n",
              "  </style>\n",
              "\n",
              "      <script>\n",
              "        const buttonEl =\n",
              "          document.querySelector('#df-86406915-508c-45b8-b665-4417b80cb8ba button.colab-df-convert');\n",
              "        buttonEl.style.display =\n",
              "          google.colab.kernel.accessAllowed ? 'block' : 'none';\n",
              "\n",
              "        async function convertToInteractive(key) {\n",
              "          const element = document.querySelector('#df-86406915-508c-45b8-b665-4417b80cb8ba');\n",
              "          const dataTable =\n",
              "            await google.colab.kernel.invokeFunction('convertToInteractive',\n",
              "                                                     [key], {});\n",
              "          if (!dataTable) return;\n",
              "\n",
              "          const docLinkHtml = 'Like what you see? Visit the ' +\n",
              "            '<a target=\"_blank\" href=https://colab.research.google.com/notebooks/data_table.ipynb>data table notebook</a>'\n",
              "            + ' to learn more about interactive tables.';\n",
              "          element.innerHTML = '';\n",
              "          dataTable['output_type'] = 'display_data';\n",
              "          await google.colab.output.renderOutput(dataTable, element);\n",
              "          const docLink = document.createElement('div');\n",
              "          docLink.innerHTML = docLinkHtml;\n",
              "          element.appendChild(docLink);\n",
              "        }\n",
              "      </script>\n",
              "    </div>\n",
              "  </div>\n",
              "  "
            ]
          },
          "metadata": {},
          "execution_count": 74
        }
      ],
      "source": [
        "sdss_df.head()"
      ]
    },
    {
      "cell_type": "code",
      "execution_count": 75,
      "metadata": {
        "id": "ed91b604-628d-49d0-a947-44ab64d12c85",
        "outputId": "d450dc32-4678-481e-d480-7d6b976561fb",
        "colab": {
          "base_uri": "https://localhost:8080/"
        }
      },
      "outputs": [
        {
          "output_type": "stream",
          "name": "stdout",
          "text": [
            "<class 'pandas.core.frame.DataFrame'>\n",
            "RangeIndex: 10127 entries, 0 to 10126\n",
            "Data columns (total 23 columns):\n",
            " #   Column                                                                                                                              Non-Null Count  Dtype  \n",
            "---  ------                                                                                                                              --------------  -----  \n",
            " 0   CLIENTNUM                                                                                                                           10127 non-null  int64  \n",
            " 1   Attrition_Flag                                                                                                                      10127 non-null  object \n",
            " 2   Customer_Age                                                                                                                        10127 non-null  int64  \n",
            " 3   Gender                                                                                                                              10127 non-null  object \n",
            " 4   Dependent_count                                                                                                                     10127 non-null  int64  \n",
            " 5   Education_Level                                                                                                                     10127 non-null  object \n",
            " 6   Marital_Status                                                                                                                      10127 non-null  object \n",
            " 7   Income_Category                                                                                                                     10127 non-null  object \n",
            " 8   Card_Category                                                                                                                       10127 non-null  object \n",
            " 9   Months_on_book                                                                                                                      10127 non-null  int64  \n",
            " 10  Total_Relationship_Count                                                                                                            10127 non-null  int64  \n",
            " 11  Months_Inactive_12_mon                                                                                                              10127 non-null  int64  \n",
            " 12  Contacts_Count_12_mon                                                                                                               10127 non-null  int64  \n",
            " 13  Credit_Limit                                                                                                                        10127 non-null  float64\n",
            " 14  Total_Revolving_Bal                                                                                                                 10127 non-null  int64  \n",
            " 15  Avg_Open_To_Buy                                                                                                                     10127 non-null  float64\n",
            " 16  Total_Amt_Chng_Q4_Q1                                                                                                                10127 non-null  float64\n",
            " 17  Total_Trans_Amt                                                                                                                     10127 non-null  int64  \n",
            " 18  Total_Trans_Ct                                                                                                                      10127 non-null  int64  \n",
            " 19  Total_Ct_Chng_Q4_Q1                                                                                                                 10127 non-null  float64\n",
            " 20  Avg_Utilization_Ratio                                                                                                               10127 non-null  float64\n",
            " 21  Naive_Bayes_Classifier_Attrition_Flag_Card_Category_Contacts_Count_12_mon_Dependent_count_Education_Level_Months_Inactive_12_mon_1  10127 non-null  float64\n",
            " 22  Naive_Bayes_Classifier_Attrition_Flag_Card_Category_Contacts_Count_12_mon_Dependent_count_Education_Level_Months_Inactive_12_mon_2  10127 non-null  float64\n",
            "dtypes: float64(7), int64(10), object(6)\n",
            "memory usage: 1.8+ MB\n"
          ]
        }
      ],
      "source": [
        "sdss_df.info()"
      ]
    },
    {
      "cell_type": "code",
      "execution_count": 76,
      "metadata": {
        "id": "fd9ba364-756c-44fa-baef-3bbca1b37e4f",
        "outputId": "306e0873-3007-4fad-c16e-13e23d3c4a73",
        "colab": {
          "base_uri": "https://localhost:8080/",
          "height": 364
        }
      },
      "outputs": [
        {
          "output_type": "execute_result",
          "data": {
            "text/plain": [
              "          CLIENTNUM  Customer_Age  Dependent_count  Months_on_book  \\\n",
              "count  1.012700e+04  10127.000000     10127.000000    10127.000000   \n",
              "mean   7.391776e+08     46.325960         2.346203       35.928409   \n",
              "std    3.690378e+07      8.016814         1.298908        7.986416   \n",
              "min    7.080821e+08     26.000000         0.000000       13.000000   \n",
              "25%    7.130368e+08     41.000000         1.000000       31.000000   \n",
              "50%    7.179264e+08     46.000000         2.000000       36.000000   \n",
              "75%    7.731435e+08     52.000000         3.000000       40.000000   \n",
              "max    8.283431e+08     73.000000         5.000000       56.000000   \n",
              "\n",
              "       Total_Relationship_Count  Months_Inactive_12_mon  \\\n",
              "count              10127.000000            10127.000000   \n",
              "mean                   3.812580                2.341167   \n",
              "std                    1.554408                1.010622   \n",
              "min                    1.000000                0.000000   \n",
              "25%                    3.000000                2.000000   \n",
              "50%                    4.000000                2.000000   \n",
              "75%                    5.000000                3.000000   \n",
              "max                    6.000000                6.000000   \n",
              "\n",
              "       Contacts_Count_12_mon  Credit_Limit  Total_Revolving_Bal  \\\n",
              "count           10127.000000  10127.000000         10127.000000   \n",
              "mean                2.455317   8631.953698          1162.814061   \n",
              "std                 1.106225   9088.776650           814.987335   \n",
              "min                 0.000000   1438.300000             0.000000   \n",
              "25%                 2.000000   2555.000000           359.000000   \n",
              "50%                 2.000000   4549.000000          1276.000000   \n",
              "75%                 3.000000  11067.500000          1784.000000   \n",
              "max                 6.000000  34516.000000          2517.000000   \n",
              "\n",
              "       Avg_Open_To_Buy  Total_Amt_Chng_Q4_Q1  Total_Trans_Amt  Total_Trans_Ct  \\\n",
              "count     10127.000000          10127.000000     10127.000000    10127.000000   \n",
              "mean       7469.139637              0.759941      4404.086304       64.858695   \n",
              "std        9090.685324              0.219207      3397.129254       23.472570   \n",
              "min           3.000000              0.000000       510.000000       10.000000   \n",
              "25%        1324.500000              0.631000      2155.500000       45.000000   \n",
              "50%        3474.000000              0.736000      3899.000000       67.000000   \n",
              "75%        9859.000000              0.859000      4741.000000       81.000000   \n",
              "max       34516.000000              3.397000     18484.000000      139.000000   \n",
              "\n",
              "       Total_Ct_Chng_Q4_Q1  Avg_Utilization_Ratio  \\\n",
              "count         10127.000000           10127.000000   \n",
              "mean              0.712222               0.274894   \n",
              "std               0.238086               0.275691   \n",
              "min               0.000000               0.000000   \n",
              "25%               0.582000               0.023000   \n",
              "50%               0.702000               0.176000   \n",
              "75%               0.818000               0.503000   \n",
              "max               3.714000               0.999000   \n",
              "\n",
              "       Naive_Bayes_Classifier_Attrition_Flag_Card_Category_Contacts_Count_12_mon_Dependent_count_Education_Level_Months_Inactive_12_mon_1  \\\n",
              "count                                       10127.000000                                                                                    \n",
              "mean                                            0.159997                                                                                    \n",
              "std                                             0.365301                                                                                    \n",
              "min                                             0.000008                                                                                    \n",
              "25%                                             0.000099                                                                                    \n",
              "50%                                             0.000181                                                                                    \n",
              "75%                                             0.000337                                                                                    \n",
              "max                                             0.999580                                                                                    \n",
              "\n",
              "       Naive_Bayes_Classifier_Attrition_Flag_Card_Category_Contacts_Count_12_mon_Dependent_count_Education_Level_Months_Inactive_12_mon_2  \n",
              "count                                       10127.000000                                                                                   \n",
              "mean                                            0.840003                                                                                   \n",
              "std                                             0.365301                                                                                   \n",
              "min                                             0.000420                                                                                   \n",
              "25%                                             0.999660                                                                                   \n",
              "50%                                             0.999820                                                                                   \n",
              "75%                                             0.999900                                                                                   \n",
              "max                                             0.999990                                                                                   "
            ],
            "text/html": [
              "\n",
              "  <div id=\"df-146b6cf6-5167-4ca3-bce8-83f98d4f0245\">\n",
              "    <div class=\"colab-df-container\">\n",
              "      <div>\n",
              "<style scoped>\n",
              "    .dataframe tbody tr th:only-of-type {\n",
              "        vertical-align: middle;\n",
              "    }\n",
              "\n",
              "    .dataframe tbody tr th {\n",
              "        vertical-align: top;\n",
              "    }\n",
              "\n",
              "    .dataframe thead th {\n",
              "        text-align: right;\n",
              "    }\n",
              "</style>\n",
              "<table border=\"1\" class=\"dataframe\">\n",
              "  <thead>\n",
              "    <tr style=\"text-align: right;\">\n",
              "      <th></th>\n",
              "      <th>CLIENTNUM</th>\n",
              "      <th>Customer_Age</th>\n",
              "      <th>Dependent_count</th>\n",
              "      <th>Months_on_book</th>\n",
              "      <th>Total_Relationship_Count</th>\n",
              "      <th>Months_Inactive_12_mon</th>\n",
              "      <th>Contacts_Count_12_mon</th>\n",
              "      <th>Credit_Limit</th>\n",
              "      <th>Total_Revolving_Bal</th>\n",
              "      <th>Avg_Open_To_Buy</th>\n",
              "      <th>Total_Amt_Chng_Q4_Q1</th>\n",
              "      <th>Total_Trans_Amt</th>\n",
              "      <th>Total_Trans_Ct</th>\n",
              "      <th>Total_Ct_Chng_Q4_Q1</th>\n",
              "      <th>Avg_Utilization_Ratio</th>\n",
              "      <th>Naive_Bayes_Classifier_Attrition_Flag_Card_Category_Contacts_Count_12_mon_Dependent_count_Education_Level_Months_Inactive_12_mon_1</th>\n",
              "      <th>Naive_Bayes_Classifier_Attrition_Flag_Card_Category_Contacts_Count_12_mon_Dependent_count_Education_Level_Months_Inactive_12_mon_2</th>\n",
              "    </tr>\n",
              "  </thead>\n",
              "  <tbody>\n",
              "    <tr>\n",
              "      <th>count</th>\n",
              "      <td>1.012700e+04</td>\n",
              "      <td>10127.000000</td>\n",
              "      <td>10127.000000</td>\n",
              "      <td>10127.000000</td>\n",
              "      <td>10127.000000</td>\n",
              "      <td>10127.000000</td>\n",
              "      <td>10127.000000</td>\n",
              "      <td>10127.000000</td>\n",
              "      <td>10127.000000</td>\n",
              "      <td>10127.000000</td>\n",
              "      <td>10127.000000</td>\n",
              "      <td>10127.000000</td>\n",
              "      <td>10127.000000</td>\n",
              "      <td>10127.000000</td>\n",
              "      <td>10127.000000</td>\n",
              "      <td>10127.000000</td>\n",
              "      <td>10127.000000</td>\n",
              "    </tr>\n",
              "    <tr>\n",
              "      <th>mean</th>\n",
              "      <td>7.391776e+08</td>\n",
              "      <td>46.325960</td>\n",
              "      <td>2.346203</td>\n",
              "      <td>35.928409</td>\n",
              "      <td>3.812580</td>\n",
              "      <td>2.341167</td>\n",
              "      <td>2.455317</td>\n",
              "      <td>8631.953698</td>\n",
              "      <td>1162.814061</td>\n",
              "      <td>7469.139637</td>\n",
              "      <td>0.759941</td>\n",
              "      <td>4404.086304</td>\n",
              "      <td>64.858695</td>\n",
              "      <td>0.712222</td>\n",
              "      <td>0.274894</td>\n",
              "      <td>0.159997</td>\n",
              "      <td>0.840003</td>\n",
              "    </tr>\n",
              "    <tr>\n",
              "      <th>std</th>\n",
              "      <td>3.690378e+07</td>\n",
              "      <td>8.016814</td>\n",
              "      <td>1.298908</td>\n",
              "      <td>7.986416</td>\n",
              "      <td>1.554408</td>\n",
              "      <td>1.010622</td>\n",
              "      <td>1.106225</td>\n",
              "      <td>9088.776650</td>\n",
              "      <td>814.987335</td>\n",
              "      <td>9090.685324</td>\n",
              "      <td>0.219207</td>\n",
              "      <td>3397.129254</td>\n",
              "      <td>23.472570</td>\n",
              "      <td>0.238086</td>\n",
              "      <td>0.275691</td>\n",
              "      <td>0.365301</td>\n",
              "      <td>0.365301</td>\n",
              "    </tr>\n",
              "    <tr>\n",
              "      <th>min</th>\n",
              "      <td>7.080821e+08</td>\n",
              "      <td>26.000000</td>\n",
              "      <td>0.000000</td>\n",
              "      <td>13.000000</td>\n",
              "      <td>1.000000</td>\n",
              "      <td>0.000000</td>\n",
              "      <td>0.000000</td>\n",
              "      <td>1438.300000</td>\n",
              "      <td>0.000000</td>\n",
              "      <td>3.000000</td>\n",
              "      <td>0.000000</td>\n",
              "      <td>510.000000</td>\n",
              "      <td>10.000000</td>\n",
              "      <td>0.000000</td>\n",
              "      <td>0.000000</td>\n",
              "      <td>0.000008</td>\n",
              "      <td>0.000420</td>\n",
              "    </tr>\n",
              "    <tr>\n",
              "      <th>25%</th>\n",
              "      <td>7.130368e+08</td>\n",
              "      <td>41.000000</td>\n",
              "      <td>1.000000</td>\n",
              "      <td>31.000000</td>\n",
              "      <td>3.000000</td>\n",
              "      <td>2.000000</td>\n",
              "      <td>2.000000</td>\n",
              "      <td>2555.000000</td>\n",
              "      <td>359.000000</td>\n",
              "      <td>1324.500000</td>\n",
              "      <td>0.631000</td>\n",
              "      <td>2155.500000</td>\n",
              "      <td>45.000000</td>\n",
              "      <td>0.582000</td>\n",
              "      <td>0.023000</td>\n",
              "      <td>0.000099</td>\n",
              "      <td>0.999660</td>\n",
              "    </tr>\n",
              "    <tr>\n",
              "      <th>50%</th>\n",
              "      <td>7.179264e+08</td>\n",
              "      <td>46.000000</td>\n",
              "      <td>2.000000</td>\n",
              "      <td>36.000000</td>\n",
              "      <td>4.000000</td>\n",
              "      <td>2.000000</td>\n",
              "      <td>2.000000</td>\n",
              "      <td>4549.000000</td>\n",
              "      <td>1276.000000</td>\n",
              "      <td>3474.000000</td>\n",
              "      <td>0.736000</td>\n",
              "      <td>3899.000000</td>\n",
              "      <td>67.000000</td>\n",
              "      <td>0.702000</td>\n",
              "      <td>0.176000</td>\n",
              "      <td>0.000181</td>\n",
              "      <td>0.999820</td>\n",
              "    </tr>\n",
              "    <tr>\n",
              "      <th>75%</th>\n",
              "      <td>7.731435e+08</td>\n",
              "      <td>52.000000</td>\n",
              "      <td>3.000000</td>\n",
              "      <td>40.000000</td>\n",
              "      <td>5.000000</td>\n",
              "      <td>3.000000</td>\n",
              "      <td>3.000000</td>\n",
              "      <td>11067.500000</td>\n",
              "      <td>1784.000000</td>\n",
              "      <td>9859.000000</td>\n",
              "      <td>0.859000</td>\n",
              "      <td>4741.000000</td>\n",
              "      <td>81.000000</td>\n",
              "      <td>0.818000</td>\n",
              "      <td>0.503000</td>\n",
              "      <td>0.000337</td>\n",
              "      <td>0.999900</td>\n",
              "    </tr>\n",
              "    <tr>\n",
              "      <th>max</th>\n",
              "      <td>8.283431e+08</td>\n",
              "      <td>73.000000</td>\n",
              "      <td>5.000000</td>\n",
              "      <td>56.000000</td>\n",
              "      <td>6.000000</td>\n",
              "      <td>6.000000</td>\n",
              "      <td>6.000000</td>\n",
              "      <td>34516.000000</td>\n",
              "      <td>2517.000000</td>\n",
              "      <td>34516.000000</td>\n",
              "      <td>3.397000</td>\n",
              "      <td>18484.000000</td>\n",
              "      <td>139.000000</td>\n",
              "      <td>3.714000</td>\n",
              "      <td>0.999000</td>\n",
              "      <td>0.999580</td>\n",
              "      <td>0.999990</td>\n",
              "    </tr>\n",
              "  </tbody>\n",
              "</table>\n",
              "</div>\n",
              "      <button class=\"colab-df-convert\" onclick=\"convertToInteractive('df-146b6cf6-5167-4ca3-bce8-83f98d4f0245')\"\n",
              "              title=\"Convert this dataframe to an interactive table.\"\n",
              "              style=\"display:none;\">\n",
              "        \n",
              "  <svg xmlns=\"http://www.w3.org/2000/svg\" height=\"24px\"viewBox=\"0 0 24 24\"\n",
              "       width=\"24px\">\n",
              "    <path d=\"M0 0h24v24H0V0z\" fill=\"none\"/>\n",
              "    <path d=\"M18.56 5.44l.94 2.06.94-2.06 2.06-.94-2.06-.94-.94-2.06-.94 2.06-2.06.94zm-11 1L8.5 8.5l.94-2.06 2.06-.94-2.06-.94L8.5 2.5l-.94 2.06-2.06.94zm10 10l.94 2.06.94-2.06 2.06-.94-2.06-.94-.94-2.06-.94 2.06-2.06.94z\"/><path d=\"M17.41 7.96l-1.37-1.37c-.4-.4-.92-.59-1.43-.59-.52 0-1.04.2-1.43.59L10.3 9.45l-7.72 7.72c-.78.78-.78 2.05 0 2.83L4 21.41c.39.39.9.59 1.41.59.51 0 1.02-.2 1.41-.59l7.78-7.78 2.81-2.81c.8-.78.8-2.07 0-2.86zM5.41 20L4 18.59l7.72-7.72 1.47 1.35L5.41 20z\"/>\n",
              "  </svg>\n",
              "      </button>\n",
              "      \n",
              "  <style>\n",
              "    .colab-df-container {\n",
              "      display:flex;\n",
              "      flex-wrap:wrap;\n",
              "      gap: 12px;\n",
              "    }\n",
              "\n",
              "    .colab-df-convert {\n",
              "      background-color: #E8F0FE;\n",
              "      border: none;\n",
              "      border-radius: 50%;\n",
              "      cursor: pointer;\n",
              "      display: none;\n",
              "      fill: #1967D2;\n",
              "      height: 32px;\n",
              "      padding: 0 0 0 0;\n",
              "      width: 32px;\n",
              "    }\n",
              "\n",
              "    .colab-df-convert:hover {\n",
              "      background-color: #E2EBFA;\n",
              "      box-shadow: 0px 1px 2px rgba(60, 64, 67, 0.3), 0px 1px 3px 1px rgba(60, 64, 67, 0.15);\n",
              "      fill: #174EA6;\n",
              "    }\n",
              "\n",
              "    [theme=dark] .colab-df-convert {\n",
              "      background-color: #3B4455;\n",
              "      fill: #D2E3FC;\n",
              "    }\n",
              "\n",
              "    [theme=dark] .colab-df-convert:hover {\n",
              "      background-color: #434B5C;\n",
              "      box-shadow: 0px 1px 3px 1px rgba(0, 0, 0, 0.15);\n",
              "      filter: drop-shadow(0px 1px 2px rgba(0, 0, 0, 0.3));\n",
              "      fill: #FFFFFF;\n",
              "    }\n",
              "  </style>\n",
              "\n",
              "      <script>\n",
              "        const buttonEl =\n",
              "          document.querySelector('#df-146b6cf6-5167-4ca3-bce8-83f98d4f0245 button.colab-df-convert');\n",
              "        buttonEl.style.display =\n",
              "          google.colab.kernel.accessAllowed ? 'block' : 'none';\n",
              "\n",
              "        async function convertToInteractive(key) {\n",
              "          const element = document.querySelector('#df-146b6cf6-5167-4ca3-bce8-83f98d4f0245');\n",
              "          const dataTable =\n",
              "            await google.colab.kernel.invokeFunction('convertToInteractive',\n",
              "                                                     [key], {});\n",
              "          if (!dataTable) return;\n",
              "\n",
              "          const docLinkHtml = 'Like what you see? Visit the ' +\n",
              "            '<a target=\"_blank\" href=https://colab.research.google.com/notebooks/data_table.ipynb>data table notebook</a>'\n",
              "            + ' to learn more about interactive tables.';\n",
              "          element.innerHTML = '';\n",
              "          dataTable['output_type'] = 'display_data';\n",
              "          await google.colab.output.renderOutput(dataTable, element);\n",
              "          const docLink = document.createElement('div');\n",
              "          docLink.innerHTML = docLinkHtml;\n",
              "          element.appendChild(docLink);\n",
              "        }\n",
              "      </script>\n",
              "    </div>\n",
              "  </div>\n",
              "  "
            ]
          },
          "metadata": {},
          "execution_count": 76
        }
      ],
      "source": [
        "sdss_df.describe()"
      ]
    },
    {
      "cell_type": "code",
      "execution_count": 77,
      "metadata": {
        "id": "b67fa5d2-7198-4b3e-97f6-5e078a25f581",
        "outputId": "d4cc8ed4-c4c5-4260-ba7a-635db04c0533",
        "colab": {
          "base_uri": "https://localhost:8080/"
        }
      },
      "outputs": [
        {
          "output_type": "execute_result",
          "data": {
            "text/plain": [
              "array(['CLIENTNUM', 'Attrition_Flag', 'Customer_Age', 'Gender',\n",
              "       'Dependent_count', 'Education_Level', 'Marital_Status',\n",
              "       'Income_Category', 'Card_Category', 'Months_on_book',\n",
              "       'Total_Relationship_Count', 'Months_Inactive_12_mon',\n",
              "       'Contacts_Count_12_mon', 'Credit_Limit', 'Total_Revolving_Bal',\n",
              "       'Avg_Open_To_Buy', 'Total_Amt_Chng_Q4_Q1', 'Total_Trans_Amt',\n",
              "       'Total_Trans_Ct', 'Total_Ct_Chng_Q4_Q1', 'Avg_Utilization_Ratio',\n",
              "       'Naive_Bayes_Classifier_Attrition_Flag_Card_Category_Contacts_Count_12_mon_Dependent_count_Education_Level_Months_Inactive_12_mon_1',\n",
              "       'Naive_Bayes_Classifier_Attrition_Flag_Card_Category_Contacts_Count_12_mon_Dependent_count_Education_Level_Months_Inactive_12_mon_2'],\n",
              "      dtype=object)"
            ]
          },
          "metadata": {},
          "execution_count": 77
        }
      ],
      "source": [
        "sdss_df.columns.values"
      ]
    },
    {
      "cell_type": "code",
      "execution_count": 78,
      "metadata": {
        "id": "63913993-f625-4db4-80b7-c09093f1de74",
        "outputId": "0f68b745-139b-4bfd-bc3b-4b389081041d",
        "colab": {
          "base_uri": "https://localhost:8080/",
          "height": 191
        }
      },
      "outputs": [
        {
          "output_type": "execute_result",
          "data": {
            "text/plain": [
              "   CLIENTNUM     Attrition_Flag  Customer_Age Gender  Dependent_count  \\\n",
              "0  768805383  Existing Customer            45      M                3   \n",
              "\n",
              "  Education_Level Marital_Status Income_Category Card_Category  \\\n",
              "0     High School        Married     $60K - $80K          Blue   \n",
              "\n",
              "   Months_on_book  ...  Months_Inactive_12_mon  Contacts_Count_12_mon  \\\n",
              "0              39  ...                       1                      3   \n",
              "\n",
              "   Credit_Limit  Total_Revolving_Bal  Avg_Open_To_Buy  Total_Amt_Chng_Q4_Q1  \\\n",
              "0       12691.0                  777          11914.0                 1.335   \n",
              "\n",
              "   Total_Trans_Amt  Total_Trans_Ct  Total_Ct_Chng_Q4_Q1  Avg_Utilization_Ratio  \n",
              "0             1144              42                1.625                  0.061  \n",
              "\n",
              "[1 rows x 21 columns]"
            ],
            "text/html": [
              "\n",
              "  <div id=\"df-b3741a73-9a86-4ec3-bfba-3661528c4186\">\n",
              "    <div class=\"colab-df-container\">\n",
              "      <div>\n",
              "<style scoped>\n",
              "    .dataframe tbody tr th:only-of-type {\n",
              "        vertical-align: middle;\n",
              "    }\n",
              "\n",
              "    .dataframe tbody tr th {\n",
              "        vertical-align: top;\n",
              "    }\n",
              "\n",
              "    .dataframe thead th {\n",
              "        text-align: right;\n",
              "    }\n",
              "</style>\n",
              "<table border=\"1\" class=\"dataframe\">\n",
              "  <thead>\n",
              "    <tr style=\"text-align: right;\">\n",
              "      <th></th>\n",
              "      <th>CLIENTNUM</th>\n",
              "      <th>Attrition_Flag</th>\n",
              "      <th>Customer_Age</th>\n",
              "      <th>Gender</th>\n",
              "      <th>Dependent_count</th>\n",
              "      <th>Education_Level</th>\n",
              "      <th>Marital_Status</th>\n",
              "      <th>Income_Category</th>\n",
              "      <th>Card_Category</th>\n",
              "      <th>Months_on_book</th>\n",
              "      <th>...</th>\n",
              "      <th>Months_Inactive_12_mon</th>\n",
              "      <th>Contacts_Count_12_mon</th>\n",
              "      <th>Credit_Limit</th>\n",
              "      <th>Total_Revolving_Bal</th>\n",
              "      <th>Avg_Open_To_Buy</th>\n",
              "      <th>Total_Amt_Chng_Q4_Q1</th>\n",
              "      <th>Total_Trans_Amt</th>\n",
              "      <th>Total_Trans_Ct</th>\n",
              "      <th>Total_Ct_Chng_Q4_Q1</th>\n",
              "      <th>Avg_Utilization_Ratio</th>\n",
              "    </tr>\n",
              "  </thead>\n",
              "  <tbody>\n",
              "    <tr>\n",
              "      <th>0</th>\n",
              "      <td>768805383</td>\n",
              "      <td>Existing Customer</td>\n",
              "      <td>45</td>\n",
              "      <td>M</td>\n",
              "      <td>3</td>\n",
              "      <td>High School</td>\n",
              "      <td>Married</td>\n",
              "      <td>$60K - $80K</td>\n",
              "      <td>Blue</td>\n",
              "      <td>39</td>\n",
              "      <td>...</td>\n",
              "      <td>1</td>\n",
              "      <td>3</td>\n",
              "      <td>12691.0</td>\n",
              "      <td>777</td>\n",
              "      <td>11914.0</td>\n",
              "      <td>1.335</td>\n",
              "      <td>1144</td>\n",
              "      <td>42</td>\n",
              "      <td>1.625</td>\n",
              "      <td>0.061</td>\n",
              "    </tr>\n",
              "  </tbody>\n",
              "</table>\n",
              "<p>1 rows × 21 columns</p>\n",
              "</div>\n",
              "      <button class=\"colab-df-convert\" onclick=\"convertToInteractive('df-b3741a73-9a86-4ec3-bfba-3661528c4186')\"\n",
              "              title=\"Convert this dataframe to an interactive table.\"\n",
              "              style=\"display:none;\">\n",
              "        \n",
              "  <svg xmlns=\"http://www.w3.org/2000/svg\" height=\"24px\"viewBox=\"0 0 24 24\"\n",
              "       width=\"24px\">\n",
              "    <path d=\"M0 0h24v24H0V0z\" fill=\"none\"/>\n",
              "    <path d=\"M18.56 5.44l.94 2.06.94-2.06 2.06-.94-2.06-.94-.94-2.06-.94 2.06-2.06.94zm-11 1L8.5 8.5l.94-2.06 2.06-.94-2.06-.94L8.5 2.5l-.94 2.06-2.06.94zm10 10l.94 2.06.94-2.06 2.06-.94-2.06-.94-.94-2.06-.94 2.06-2.06.94z\"/><path d=\"M17.41 7.96l-1.37-1.37c-.4-.4-.92-.59-1.43-.59-.52 0-1.04.2-1.43.59L10.3 9.45l-7.72 7.72c-.78.78-.78 2.05 0 2.83L4 21.41c.39.39.9.59 1.41.59.51 0 1.02-.2 1.41-.59l7.78-7.78 2.81-2.81c.8-.78.8-2.07 0-2.86zM5.41 20L4 18.59l7.72-7.72 1.47 1.35L5.41 20z\"/>\n",
              "  </svg>\n",
              "      </button>\n",
              "      \n",
              "  <style>\n",
              "    .colab-df-container {\n",
              "      display:flex;\n",
              "      flex-wrap:wrap;\n",
              "      gap: 12px;\n",
              "    }\n",
              "\n",
              "    .colab-df-convert {\n",
              "      background-color: #E8F0FE;\n",
              "      border: none;\n",
              "      border-radius: 50%;\n",
              "      cursor: pointer;\n",
              "      display: none;\n",
              "      fill: #1967D2;\n",
              "      height: 32px;\n",
              "      padding: 0 0 0 0;\n",
              "      width: 32px;\n",
              "    }\n",
              "\n",
              "    .colab-df-convert:hover {\n",
              "      background-color: #E2EBFA;\n",
              "      box-shadow: 0px 1px 2px rgba(60, 64, 67, 0.3), 0px 1px 3px 1px rgba(60, 64, 67, 0.15);\n",
              "      fill: #174EA6;\n",
              "    }\n",
              "\n",
              "    [theme=dark] .colab-df-convert {\n",
              "      background-color: #3B4455;\n",
              "      fill: #D2E3FC;\n",
              "    }\n",
              "\n",
              "    [theme=dark] .colab-df-convert:hover {\n",
              "      background-color: #434B5C;\n",
              "      box-shadow: 0px 1px 3px 1px rgba(0, 0, 0, 0.15);\n",
              "      filter: drop-shadow(0px 1px 2px rgba(0, 0, 0, 0.3));\n",
              "      fill: #FFFFFF;\n",
              "    }\n",
              "  </style>\n",
              "\n",
              "      <script>\n",
              "        const buttonEl =\n",
              "          document.querySelector('#df-b3741a73-9a86-4ec3-bfba-3661528c4186 button.colab-df-convert');\n",
              "        buttonEl.style.display =\n",
              "          google.colab.kernel.accessAllowed ? 'block' : 'none';\n",
              "\n",
              "        async function convertToInteractive(key) {\n",
              "          const element = document.querySelector('#df-b3741a73-9a86-4ec3-bfba-3661528c4186');\n",
              "          const dataTable =\n",
              "            await google.colab.kernel.invokeFunction('convertToInteractive',\n",
              "                                                     [key], {});\n",
              "          if (!dataTable) return;\n",
              "\n",
              "          const docLinkHtml = 'Like what you see? Visit the ' +\n",
              "            '<a target=\"_blank\" href=https://colab.research.google.com/notebooks/data_table.ipynb>data table notebook</a>'\n",
              "            + ' to learn more about interactive tables.';\n",
              "          element.innerHTML = '';\n",
              "          dataTable['output_type'] = 'display_data';\n",
              "          await google.colab.output.renderOutput(dataTable, element);\n",
              "          const docLink = document.createElement('div');\n",
              "          docLink.innerHTML = docLinkHtml;\n",
              "          element.appendChild(docLink);\n",
              "        }\n",
              "      </script>\n",
              "    </div>\n",
              "  </div>\n",
              "  "
            ]
          },
          "metadata": {},
          "execution_count": 78
        }
      ],
      "source": [
        "sdss_df.drop(['Naive_Bayes_Classifier_Attrition_Flag_Card_Category_Contacts_Count_12_mon_Dependent_count_Education_Level_Months_Inactive_12_mon_1', 'Naive_Bayes_Classifier_Attrition_Flag_Card_Category_Contacts_Count_12_mon_Dependent_count_Education_Level_Months_Inactive_12_mon_2'], axis=1, inplace=True)\n",
        "sdss_df.head(1)"
      ]
    },
    {
      "cell_type": "code",
      "execution_count": 79,
      "metadata": {
        "id": "3160fc15-c68c-4547-91dc-fb7c90727970",
        "outputId": "16015885-7bc0-4039-b457-43441e94f479",
        "colab": {
          "base_uri": "https://localhost:8080/"
        }
      },
      "outputs": [
        {
          "output_type": "execute_result",
          "data": {
            "text/plain": [
              "array(['CLIENTNUM', 'Attrition_Flag', 'Customer_Age', 'Gender',\n",
              "       'Dependent_count', 'Education_Level', 'Marital_Status',\n",
              "       'Income_Category', 'Card_Category', 'Months_on_book',\n",
              "       'Total_Relationship_Count', 'Months_Inactive_12_mon',\n",
              "       'Contacts_Count_12_mon', 'Credit_Limit', 'Total_Revolving_Bal',\n",
              "       'Avg_Open_To_Buy', 'Total_Amt_Chng_Q4_Q1', 'Total_Trans_Amt',\n",
              "       'Total_Trans_Ct', 'Total_Ct_Chng_Q4_Q1', 'Avg_Utilization_Ratio'],\n",
              "      dtype=object)"
            ]
          },
          "metadata": {},
          "execution_count": 79
        }
      ],
      "source": [
        "sdss_df.columns.values"
      ]
    },
    {
      "cell_type": "code",
      "execution_count": 80,
      "metadata": {
        "id": "c448d182-0704-4baf-a848-00e3de62cdfd"
      },
      "outputs": [],
      "source": [
        "X = sdss_df.drop('Attrition_Flag', axis=1)\n",
        "y = sdss_df['Attrition_Flag']"
      ]
    },
    {
      "cell_type": "code",
      "execution_count": 81,
      "metadata": {
        "id": "572f3840-9d6e-44f7-9f41-c423bd9ecd96",
        "outputId": "455d699c-39de-40a6-a638-52fea1f0f5da",
        "colab": {
          "base_uri": "https://localhost:8080/",
          "height": 264
        }
      },
      "outputs": [
        {
          "output_type": "display_data",
          "data": {
            "text/plain": [
              "<Figure size 288x288 with 1 Axes>"
            ],
            "image/png": "[encoded data removed]"
          },
          "metadata": {}
        }
      ],
      "source": [
        "fig, ax = plt.subplots(figsize=(4, 4))\n",
        "count = Counter(y)\n",
        "ax.pie(count.values(), labels=count.keys(), autopct=lambda p:f'{p:.2f}%')\n",
        "ax.set_title('Percentage of existing and attrited customers')\n",
        "plt.show()"
      ]
    },
    {
      "cell_type": "code",
      "execution_count": 82,
      "metadata": {
        "id": "b11fda54-e42b-4bac-aa12-32b37b02fc76",
        "outputId": "a380d853-b3d5-4f34-ab40-e7c187c60291",
        "colab": {
          "base_uri": "https://localhost:8080/",
          "height": 404
        }
      },
      "outputs": [
        {
          "output_type": "display_data",
          "data": {
            "text/plain": [
              "<Figure size 1080x432 with 1 Axes>"
            ],
            "image/png": "[encoded data removed]"
          },
          "metadata": {
            "needs_background": "light"
          }
        }
      ],
      "source": [
        "fig, ax = plt.subplots(figsize=(15, 6))\n",
        "count = Counter(X['Education_Level'])\n",
        "count = pd.Series(count).sort_values(ascending=False)\n",
        "labels = []\n",
        "\n",
        "for i in count.keys():\n",
        "    labels.append(i + ' (' + str(count[i]/len(X['Education_Level'])*100)[:5] + '%)')\n",
        "\n",
        "plt.bar(labels, count, color='blue')\n",
        "plt.title('Education level of the customers')\n",
        "plt.xlabel('Education level')\n",
        "plt.ylabel('Number of customers')\n",
        "plt.show()"
      ]
    },
    {
      "cell_type": "markdown",
      "source": [
        "#Modeling"
      ],
      "metadata": {
        "id": "8Zm5ojHtEzvn"
      }
    },
    {
      "cell_type": "code",
      "execution_count": 83,
      "metadata": {
        "id": "fac3a1e7-5f48-41a9-b3aa-b72fc8fd9fa5"
      },
      "outputs": [],
      "source": [
        "cat_cols = ['Gender','Education_Level', 'Marital_Status', 'Income_Category', 'Card_Category']\n",
        "for col in cat_cols:\n",
        "    le = LabelEncoder()\n",
        "    X[col] = le.fit_transform(X[col])\n",
        "    \n",
        "le = LabelEncoder()\n",
        "y = le.fit_transform(y)\n"
      ]
    },
    {
      "cell_type": "code",
      "execution_count": 84,
      "metadata": {
        "id": "019f3555-d836-4050-a158-c7474ed7bc92"
      },
      "outputs": [],
      "source": [
        "X_train, X_test, y_train, y_test = train_test_split(X, y, test_size=0.2)"
      ]
    },
    {
      "cell_type": "code",
      "execution_count": 85,
      "metadata": {
        "id": "e3032a77-a764-45b1-b1d1-419a0868e00b",
        "outputId": "956799e1-e326-424a-c892-d989e4a0ebb1",
        "colab": {
          "base_uri": "https://localhost:8080/"
        }
      },
      "outputs": [
        {
          "output_type": "stream",
          "name": "stdout",
          "text": [
            "Distribution of target 1 & 2: 6806 & 1295\n"
          ]
        }
      ],
      "source": [
        "count = Counter(y_train)\n",
        "print('Distribution of target 1 & 2:', count[1], '&', count[0])"
      ]
    },
    {
      "cell_type": "code",
      "execution_count": 86,
      "metadata": {
        "id": "76666634-dcd5-47c1-93b9-c55644bf8d3c"
      },
      "outputs": [],
      "source": [
        "smote = SMOTE()\n",
        "X_train, y_train = smote.fit_resample(X_train, y_train)"
      ]
    },
    {
      "cell_type": "code",
      "execution_count": 87,
      "metadata": {
        "id": "e32e6fe6-fd1c-4cb7-b065-ff49714e5bdb",
        "outputId": "091f163c-fcd0-462a-9444-65fae06e6fde",
        "colab": {
          "base_uri": "https://localhost:8080/"
        }
      },
      "outputs": [
        {
          "output_type": "stream",
          "name": "stdout",
          "text": [
            "Distribution of target 1 & 2: 6806 & 6806\n"
          ]
        }
      ],
      "source": [
        "count = Counter(y_train)\n",
        "print('Distribution of target 1 & 2:', count[1], '&', count[0])"
      ]
    },
    {
      "cell_type": "code",
      "execution_count": 88,
      "metadata": {
        "id": "23cc6a6b-3e0b-4bc6-913c-75f8efd83dc7"
      },
      "outputs": [],
      "source": [
        "classifiers = [[XGBClassifier(),'XGB Classifier']]"
      ]
    },
    {
      "cell_type": "code",
      "execution_count": 89,
      "metadata": {
        "id": "e9745c19-4590-4615-b42a-4e5364e3e99d",
        "outputId": "793be7d9-bee8-4b50-bf83-1ab0dda27aab",
        "colab": {
          "base_uri": "https://localhost:8080/"
        }
      },
      "outputs": [
        {
          "output_type": "stream",
          "name": "stdout",
          "text": [
            "XGB Classifier model score:     94.62%\n"
          ]
        }
      ],
      "source": [
        "score_list = []\n",
        "cross_val_list = []\n",
        "roc_auc_list = []\n",
        "\n",
        "for classifier in classifiers:\n",
        "    model = classifier[0]\n",
        "    model.fit(X_train, y_train)\n",
        "    model_name = classifier[1]\n",
        "    \n",
        "    pred = model.predict(X_test)\n",
        "    score = model.score(X_test, y_test)     \n",
        "    score_list.append(score)\n",
        "       \n",
        "    print(model_name, 'model score:     ' + str(round(score*100, 2)) + '%')\n",
        "       \n",
        "    if model_name != classifiers[-1][1]:\n",
        "        print('')"
      ]
    },
    {
      "cell_type": "code",
      "execution_count": 90,
      "metadata": {
        "id": "08862e87-36bd-46ec-8384-2d5c6e9287e6",
        "outputId": "c14a022e-52d5-425a-a219-e53ecde94653",
        "colab": {
          "base_uri": "https://localhost:8080/"
        }
      },
      "outputs": [
        {
          "output_type": "stream",
          "name": "stdout",
          "text": [
            "model score:     94.62%\n"
          ]
        }
      ],
      "source": [
        "model = XGBClassifier()\n",
        "model.fit(X_train, y_train)\n",
        "pred = model.predict(X_test)\n",
        "\n",
        "score = model.score(X_test, y_test)\n",
        "\n",
        "print('model score:     ' + str(round(score*100, 2)) + '%')\n",
        "\n"
      ]
    },
    {
      "cell_type": "code",
      "execution_count": 91,
      "metadata": {
        "id": "ddf148f5-77b4-4552-8913-d80392983297"
      },
      "outputs": [],
      "source": [
        "y_pred = model.predict(X_test)"
      ]
    },
    {
      "cell_type": "code",
      "execution_count": 92,
      "metadata": {
        "id": "a00f23e0-5d5e-4e34-bb45-7d25276929f9",
        "outputId": "249409c8-3264-4387-d233-b61facd70b5f",
        "colab": {
          "base_uri": "https://localhost:8080/"
        }
      },
      "outputs": [
        {
          "output_type": "execute_result",
          "data": {
            "text/plain": [
              "array([1, 1, 1, ..., 1, 0, 0])"
            ]
          },
          "metadata": {},
          "execution_count": 92
        }
      ],
      "source": [
        "y_pred"
      ]
    },
    {
      "cell_type": "code",
      "execution_count": 93,
      "metadata": {
        "id": "7a14b206-b809-4cad-937a-9ee3ae82b48f",
        "outputId": "4ba4bd1c-bba8-45c9-d818-5161a1c8e02a",
        "colab": {
          "base_uri": "https://localhost:8080/"
        }
      },
      "outputs": [
        {
          "output_type": "execute_result",
          "data": {
            "text/plain": [
              "0.9461994076999013"
            ]
          },
          "metadata": {},
          "execution_count": 93
        }
      ],
      "source": [
        "from sklearn.metrics import accuracy_score\n",
        "accuracy = accuracy_score(y_test, y_pred)\n",
        "accuracy"
      ]
    },
    {
      "cell_type": "markdown",
      "source": [
        "#Model Evaluation"
      ],
      "metadata": {
        "id": "QSp4PxwWE38H"
      }
    },
    {
      "cell_type": "code",
      "execution_count": 94,
      "metadata": {
        "id": "7bb313b2-3942-464a-9568-458a681a0571",
        "colab": {
          "base_uri": "https://localhost:8080/"
        },
        "outputId": "dda55d96-64ba-4bf5-f667-99ead8a05366"
      },
      "outputs": [
        {
          "output_type": "stream",
          "name": "stdout",
          "text": [
            "model score:     94.62%\n",
            "cross val score: 95.61%\n",
            "roc auc score:   92.54%\n"
          ]
        }
      ],
      "source": [
        "model = XGBClassifier()\n",
        "model.fit(X_train, y_train)\n",
        "pred = model.predict(X_test)\n",
        "\n",
        "score = model.score(X_test, y_test)\n",
        "cross_val = cross_val_score(model, X_test, y_test).mean()\n",
        "roc_auc = roc_auc_score(y_test, pred)\n",
        "\n",
        "print('model score:     ' + str(round(score*100, 2)) + '%')\n",
        "print('cross val score: ' +str(round(cross_val*100, 2)) + '%') # Evaluate a score by cross-validation.\n",
        "print('roc auc score:   ' + str(round(roc_auc*100, 2)) + '%')"
      ]
    },
    {
      "cell_type": "markdown",
      "source": [
        "#Deployment"
      ],
      "metadata": {
        "id": "2oGs_KWYMtfw"
      }
    },
    {
      "cell_type": "markdown",
      "source": [
        "Deployment adalah kegiatan yang bertujuan untuk menyebarkan aplikasi yang telah dikerjakan oleh para programmer. Cara penyebarannya pun beragam, tergantung dari jenis aplikasinya. Kalau kamu pilih aplikasi Web, maka kamu akan di-hosting pada server.\n",
        "\n",
        "Tujuan utamanya yakni deployment target. Dapat diartikan sebagai sebuah sistem spesifikasi yang dialokasikan dalam deployment target.\n",
        "\n",
        "Ada 7 (tujuh) langkah dalam proses pengembangan terkait deploy dan deployment, yaitu:\n",
        "\n",
        "* Coding (pengodean)\n",
        "* Building (pembangunan)\n",
        "* Testing (pengujian)\n",
        "* Packaging (pengemasan)\n",
        "* Releasing (rilis)\n",
        "* Configuring (konfigurasi)\n",
        "* Monitoring (tahapan memonitor)"
      ],
      "metadata": {
        "id": "f_dbH271M05W"
      }
    }
  ]
}